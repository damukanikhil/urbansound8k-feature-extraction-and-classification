{
 "cells": [
  {
   "cell_type": "code",
   "execution_count": 1,
   "id": "1be38eec",
   "metadata": {},
   "outputs": [],
   "source": [
    "import pandas as pd\n",
    "import numpy as np\n",
    "import seaborn as sns"
   ]
  },
  {
   "cell_type": "code",
   "execution_count": 2,
   "id": "78c3d599",
   "metadata": {},
   "outputs": [],
   "source": [
    "df = pd.read_csv('sounds_features.csv', sep=';')"
   ]
  },
  {
   "cell_type": "code",
   "execution_count": 3,
   "id": "69587dba",
   "metadata": {},
   "outputs": [
    {
     "data": {
      "text/html": [
       "<div>\n",
       "<style scoped>\n",
       "    .dataframe tbody tr th:only-of-type {\n",
       "        vertical-align: middle;\n",
       "    }\n",
       "\n",
       "    .dataframe tbody tr th {\n",
       "        vertical-align: top;\n",
       "    }\n",
       "\n",
       "    .dataframe thead th {\n",
       "        text-align: right;\n",
       "    }\n",
       "</style>\n",
       "<table border=\"1\" class=\"dataframe\">\n",
       "  <thead>\n",
       "    <tr style=\"text-align: right;\">\n",
       "      <th></th>\n",
       "      <th>Unnamed: 0</th>\n",
       "      <th>zcrAvg</th>\n",
       "      <th>changeSign</th>\n",
       "      <th>energyValue</th>\n",
       "      <th>rmseValue</th>\n",
       "      <th>centAvg</th>\n",
       "      <th>mfcc1</th>\n",
       "      <th>mfcc2</th>\n",
       "      <th>mfcc3</th>\n",
       "      <th>mfcc4</th>\n",
       "      <th>...</th>\n",
       "      <th>mfcc32</th>\n",
       "      <th>mfcc33</th>\n",
       "      <th>mfcc34</th>\n",
       "      <th>mfcc35</th>\n",
       "      <th>mfcc36</th>\n",
       "      <th>mfcc37</th>\n",
       "      <th>mfcc38</th>\n",
       "      <th>mfcc39</th>\n",
       "      <th>mfcc40</th>\n",
       "      <th>class</th>\n",
       "    </tr>\n",
       "  </thead>\n",
       "  <tbody>\n",
       "    <tr>\n",
       "      <th>0</th>\n",
       "      <td>0</td>\n",
       "      <td>0.009657</td>\n",
       "      <td>4593</td>\n",
       "      <td>2264.927935</td>\n",
       "      <td>0.113313</td>\n",
       "      <td>2155.661327</td>\n",
       "      <td>-421.311127</td>\n",
       "      <td>85.343208</td>\n",
       "      <td>28.446869</td>\n",
       "      <td>2.614782</td>\n",
       "      <td>...</td>\n",
       "      <td>-2.706210</td>\n",
       "      <td>-0.365601</td>\n",
       "      <td>-0.139195</td>\n",
       "      <td>-0.330428</td>\n",
       "      <td>0.372793</td>\n",
       "      <td>-0.901228</td>\n",
       "      <td>-0.243663</td>\n",
       "      <td>-1.740499</td>\n",
       "      <td>-1.226440</td>\n",
       "      <td>3</td>\n",
       "    </tr>\n",
       "    <tr>\n",
       "      <th>1</th>\n",
       "      <td>1</td>\n",
       "      <td>0.014695</td>\n",
       "      <td>4187</td>\n",
       "      <td>2048.439454</td>\n",
       "      <td>0.107761</td>\n",
       "      <td>1615.496128</td>\n",
       "      <td>-395.098969</td>\n",
       "      <td>116.315102</td>\n",
       "      <td>43.762909</td>\n",
       "      <td>4.352540</td>\n",
       "      <td>...</td>\n",
       "      <td>-5.044736</td>\n",
       "      <td>-1.618791</td>\n",
       "      <td>-1.294750</td>\n",
       "      <td>-1.024295</td>\n",
       "      <td>0.475517</td>\n",
       "      <td>-2.952822</td>\n",
       "      <td>-1.434950</td>\n",
       "      <td>-2.280013</td>\n",
       "      <td>-1.151072</td>\n",
       "      <td>3</td>\n",
       "    </tr>\n",
       "    <tr>\n",
       "      <th>2</th>\n",
       "      <td>2</td>\n",
       "      <td>0.007265</td>\n",
       "      <td>5768</td>\n",
       "      <td>1310.587383</td>\n",
       "      <td>0.086195</td>\n",
       "      <td>2584.737258</td>\n",
       "      <td>-438.313232</td>\n",
       "      <td>67.215469</td>\n",
       "      <td>16.692242</td>\n",
       "      <td>5.171484</td>\n",
       "      <td>...</td>\n",
       "      <td>-1.078942</td>\n",
       "      <td>1.052208</td>\n",
       "      <td>1.117211</td>\n",
       "      <td>0.401828</td>\n",
       "      <td>-0.156043</td>\n",
       "      <td>-0.847795</td>\n",
       "      <td>-0.580407</td>\n",
       "      <td>-1.636151</td>\n",
       "      <td>-1.662564</td>\n",
       "      <td>3</td>\n",
       "    </tr>\n",
       "    <tr>\n",
       "      <th>3</th>\n",
       "      <td>3</td>\n",
       "      <td>0.047831</td>\n",
       "      <td>5681</td>\n",
       "      <td>95.177734</td>\n",
       "      <td>0.036277</td>\n",
       "      <td>2903.127592</td>\n",
       "      <td>-312.848206</td>\n",
       "      <td>143.507858</td>\n",
       "      <td>-44.703270</td>\n",
       "      <td>1.004310</td>\n",
       "      <td>...</td>\n",
       "      <td>5.896312</td>\n",
       "      <td>-4.720562</td>\n",
       "      <td>1.024957</td>\n",
       "      <td>-3.351448</td>\n",
       "      <td>1.455121</td>\n",
       "      <td>-1.456189</td>\n",
       "      <td>-2.079997</td>\n",
       "      <td>-2.217562</td>\n",
       "      <td>-0.387946</td>\n",
       "      <td>3</td>\n",
       "    </tr>\n",
       "    <tr>\n",
       "      <th>4</th>\n",
       "      <td>4</td>\n",
       "      <td>0.018793</td>\n",
       "      <td>3033</td>\n",
       "      <td>123.270886</td>\n",
       "      <td>0.032726</td>\n",
       "      <td>2203.600110</td>\n",
       "      <td>-429.136322</td>\n",
       "      <td>145.625961</td>\n",
       "      <td>22.025145</td>\n",
       "      <td>34.737606</td>\n",
       "      <td>...</td>\n",
       "      <td>0.353596</td>\n",
       "      <td>0.500646</td>\n",
       "      <td>0.937074</td>\n",
       "      <td>0.875274</td>\n",
       "      <td>1.580888</td>\n",
       "      <td>0.781794</td>\n",
       "      <td>0.254817</td>\n",
       "      <td>0.996495</td>\n",
       "      <td>0.570555</td>\n",
       "      <td>6</td>\n",
       "    </tr>\n",
       "    <tr>\n",
       "      <th>...</th>\n",
       "      <td>...</td>\n",
       "      <td>...</td>\n",
       "      <td>...</td>\n",
       "      <td>...</td>\n",
       "      <td>...</td>\n",
       "      <td>...</td>\n",
       "      <td>...</td>\n",
       "      <td>...</td>\n",
       "      <td>...</td>\n",
       "      <td>...</td>\n",
       "      <td>...</td>\n",
       "      <td>...</td>\n",
       "      <td>...</td>\n",
       "      <td>...</td>\n",
       "      <td>...</td>\n",
       "      <td>...</td>\n",
       "      <td>...</td>\n",
       "      <td>...</td>\n",
       "      <td>...</td>\n",
       "      <td>...</td>\n",
       "      <td>...</td>\n",
       "    </tr>\n",
       "    <tr>\n",
       "      <th>8727</th>\n",
       "      <td>8727</td>\n",
       "      <td>0.237518</td>\n",
       "      <td>44354</td>\n",
       "      <td>550.453820</td>\n",
       "      <td>0.055861</td>\n",
       "      <td>6038.560906</td>\n",
       "      <td>-174.564743</td>\n",
       "      <td>68.354164</td>\n",
       "      <td>-31.522314</td>\n",
       "      <td>20.746210</td>\n",
       "      <td>...</td>\n",
       "      <td>-1.399260</td>\n",
       "      <td>-3.793235</td>\n",
       "      <td>-0.314907</td>\n",
       "      <td>-6.662869</td>\n",
       "      <td>7.868906</td>\n",
       "      <td>-9.190269</td>\n",
       "      <td>3.032317</td>\n",
       "      <td>-5.569743</td>\n",
       "      <td>-0.461770</td>\n",
       "      <td>4</td>\n",
       "    </tr>\n",
       "    <tr>\n",
       "      <th>8728</th>\n",
       "      <td>8728</td>\n",
       "      <td>0.219639</td>\n",
       "      <td>39953</td>\n",
       "      <td>931.296241</td>\n",
       "      <td>0.072660</td>\n",
       "      <td>5551.270832</td>\n",
       "      <td>-143.695480</td>\n",
       "      <td>83.820740</td>\n",
       "      <td>-24.426477</td>\n",
       "      <td>17.307587</td>\n",
       "      <td>...</td>\n",
       "      <td>-0.571613</td>\n",
       "      <td>-2.336670</td>\n",
       "      <td>-1.361198</td>\n",
       "      <td>-5.476418</td>\n",
       "      <td>7.553002</td>\n",
       "      <td>-9.695344</td>\n",
       "      <td>6.655576</td>\n",
       "      <td>-7.686864</td>\n",
       "      <td>2.161717</td>\n",
       "      <td>4</td>\n",
       "    </tr>\n",
       "    <tr>\n",
       "      <th>8729</th>\n",
       "      <td>8729</td>\n",
       "      <td>0.174812</td>\n",
       "      <td>31992</td>\n",
       "      <td>852.646596</td>\n",
       "      <td>0.069524</td>\n",
       "      <td>4953.979000</td>\n",
       "      <td>-150.329147</td>\n",
       "      <td>94.923241</td>\n",
       "      <td>-29.548103</td>\n",
       "      <td>14.780211</td>\n",
       "      <td>...</td>\n",
       "      <td>-1.391360</td>\n",
       "      <td>-0.595309</td>\n",
       "      <td>-1.223421</td>\n",
       "      <td>-2.410092</td>\n",
       "      <td>6.300669</td>\n",
       "      <td>-7.801015</td>\n",
       "      <td>7.522465</td>\n",
       "      <td>-8.240689</td>\n",
       "      <td>4.455863</td>\n",
       "      <td>4</td>\n",
       "    </tr>\n",
       "    <tr>\n",
       "      <th>8730</th>\n",
       "      <td>8730</td>\n",
       "      <td>0.175702</td>\n",
       "      <td>32720</td>\n",
       "      <td>715.943486</td>\n",
       "      <td>0.063707</td>\n",
       "      <td>5065.636746</td>\n",
       "      <td>-163.875427</td>\n",
       "      <td>88.359772</td>\n",
       "      <td>-35.718800</td>\n",
       "      <td>12.791890</td>\n",
       "      <td>...</td>\n",
       "      <td>-0.722984</td>\n",
       "      <td>-0.622909</td>\n",
       "      <td>-0.561700</td>\n",
       "      <td>-1.851495</td>\n",
       "      <td>6.214291</td>\n",
       "      <td>-6.799572</td>\n",
       "      <td>7.248857</td>\n",
       "      <td>-6.847468</td>\n",
       "      <td>4.146056</td>\n",
       "      <td>4</td>\n",
       "    </tr>\n",
       "    <tr>\n",
       "      <th>8731</th>\n",
       "      <td>8731</td>\n",
       "      <td>0.212608</td>\n",
       "      <td>39568</td>\n",
       "      <td>527.159823</td>\n",
       "      <td>0.054667</td>\n",
       "      <td>5728.114991</td>\n",
       "      <td>-166.675018</td>\n",
       "      <td>72.175522</td>\n",
       "      <td>-36.865952</td>\n",
       "      <td>14.634131</td>\n",
       "      <td>...</td>\n",
       "      <td>-1.534544</td>\n",
       "      <td>-4.825022</td>\n",
       "      <td>1.459178</td>\n",
       "      <td>-8.672048</td>\n",
       "      <td>6.474389</td>\n",
       "      <td>-10.223587</td>\n",
       "      <td>3.502012</td>\n",
       "      <td>-5.844539</td>\n",
       "      <td>-0.319190</td>\n",
       "      <td>4</td>\n",
       "    </tr>\n",
       "  </tbody>\n",
       "</table>\n",
       "<p>8732 rows × 47 columns</p>\n",
       "</div>"
      ],
      "text/plain": [
       "      Unnamed: 0    zcrAvg  changeSign  energyValue  rmseValue      centAvg  \\\n",
       "0              0  0.009657        4593  2264.927935   0.113313  2155.661327   \n",
       "1              1  0.014695        4187  2048.439454   0.107761  1615.496128   \n",
       "2              2  0.007265        5768  1310.587383   0.086195  2584.737258   \n",
       "3              3  0.047831        5681    95.177734   0.036277  2903.127592   \n",
       "4              4  0.018793        3033   123.270886   0.032726  2203.600110   \n",
       "...          ...       ...         ...          ...        ...          ...   \n",
       "8727        8727  0.237518       44354   550.453820   0.055861  6038.560906   \n",
       "8728        8728  0.219639       39953   931.296241   0.072660  5551.270832   \n",
       "8729        8729  0.174812       31992   852.646596   0.069524  4953.979000   \n",
       "8730        8730  0.175702       32720   715.943486   0.063707  5065.636746   \n",
       "8731        8731  0.212608       39568   527.159823   0.054667  5728.114991   \n",
       "\n",
       "           mfcc1       mfcc2      mfcc3      mfcc4  ...    mfcc32    mfcc33  \\\n",
       "0    -421.311127   85.343208  28.446869   2.614782  ... -2.706210 -0.365601   \n",
       "1    -395.098969  116.315102  43.762909   4.352540  ... -5.044736 -1.618791   \n",
       "2    -438.313232   67.215469  16.692242   5.171484  ... -1.078942  1.052208   \n",
       "3    -312.848206  143.507858 -44.703270   1.004310  ...  5.896312 -4.720562   \n",
       "4    -429.136322  145.625961  22.025145  34.737606  ...  0.353596  0.500646   \n",
       "...          ...         ...        ...        ...  ...       ...       ...   \n",
       "8727 -174.564743   68.354164 -31.522314  20.746210  ... -1.399260 -3.793235   \n",
       "8728 -143.695480   83.820740 -24.426477  17.307587  ... -0.571613 -2.336670   \n",
       "8729 -150.329147   94.923241 -29.548103  14.780211  ... -1.391360 -0.595309   \n",
       "8730 -163.875427   88.359772 -35.718800  12.791890  ... -0.722984 -0.622909   \n",
       "8731 -166.675018   72.175522 -36.865952  14.634131  ... -1.534544 -4.825022   \n",
       "\n",
       "        mfcc34    mfcc35    mfcc36     mfcc37    mfcc38    mfcc39    mfcc40  \\\n",
       "0    -0.139195 -0.330428  0.372793  -0.901228 -0.243663 -1.740499 -1.226440   \n",
       "1    -1.294750 -1.024295  0.475517  -2.952822 -1.434950 -2.280013 -1.151072   \n",
       "2     1.117211  0.401828 -0.156043  -0.847795 -0.580407 -1.636151 -1.662564   \n",
       "3     1.024957 -3.351448  1.455121  -1.456189 -2.079997 -2.217562 -0.387946   \n",
       "4     0.937074  0.875274  1.580888   0.781794  0.254817  0.996495  0.570555   \n",
       "...        ...       ...       ...        ...       ...       ...       ...   \n",
       "8727 -0.314907 -6.662869  7.868906  -9.190269  3.032317 -5.569743 -0.461770   \n",
       "8728 -1.361198 -5.476418  7.553002  -9.695344  6.655576 -7.686864  2.161717   \n",
       "8729 -1.223421 -2.410092  6.300669  -7.801015  7.522465 -8.240689  4.455863   \n",
       "8730 -0.561700 -1.851495  6.214291  -6.799572  7.248857 -6.847468  4.146056   \n",
       "8731  1.459178 -8.672048  6.474389 -10.223587  3.502012 -5.844539 -0.319190   \n",
       "\n",
       "      class  \n",
       "0         3  \n",
       "1         3  \n",
       "2         3  \n",
       "3         3  \n",
       "4         6  \n",
       "...     ...  \n",
       "8727      4  \n",
       "8728      4  \n",
       "8729      4  \n",
       "8730      4  \n",
       "8731      4  \n",
       "\n",
       "[8732 rows x 47 columns]"
      ]
     },
     "execution_count": 3,
     "metadata": {},
     "output_type": "execute_result"
    }
   ],
   "source": [
    "df"
   ]
  },
  {
   "cell_type": "code",
   "execution_count": 4,
   "id": "cc33c33e",
   "metadata": {},
   "outputs": [],
   "source": [
    "df = df.drop(columns=['Unnamed: 0'])"
   ]
  },
  {
   "cell_type": "code",
   "execution_count": 5,
   "id": "a9bcb68e",
   "metadata": {},
   "outputs": [
    {
     "data": {
      "text/html": [
       "<div>\n",
       "<style scoped>\n",
       "    .dataframe tbody tr th:only-of-type {\n",
       "        vertical-align: middle;\n",
       "    }\n",
       "\n",
       "    .dataframe tbody tr th {\n",
       "        vertical-align: top;\n",
       "    }\n",
       "\n",
       "    .dataframe thead th {\n",
       "        text-align: right;\n",
       "    }\n",
       "</style>\n",
       "<table border=\"1\" class=\"dataframe\">\n",
       "  <thead>\n",
       "    <tr style=\"text-align: right;\">\n",
       "      <th></th>\n",
       "      <th>zcrAvg</th>\n",
       "      <th>changeSign</th>\n",
       "      <th>energyValue</th>\n",
       "      <th>rmseValue</th>\n",
       "      <th>centAvg</th>\n",
       "      <th>mfcc1</th>\n",
       "      <th>mfcc2</th>\n",
       "      <th>mfcc3</th>\n",
       "      <th>mfcc4</th>\n",
       "      <th>mfcc5</th>\n",
       "      <th>...</th>\n",
       "      <th>mfcc32</th>\n",
       "      <th>mfcc33</th>\n",
       "      <th>mfcc34</th>\n",
       "      <th>mfcc35</th>\n",
       "      <th>mfcc36</th>\n",
       "      <th>mfcc37</th>\n",
       "      <th>mfcc38</th>\n",
       "      <th>mfcc39</th>\n",
       "      <th>mfcc40</th>\n",
       "      <th>class</th>\n",
       "    </tr>\n",
       "  </thead>\n",
       "  <tbody>\n",
       "    <tr>\n",
       "      <th>0</th>\n",
       "      <td>0.009657</td>\n",
       "      <td>4593</td>\n",
       "      <td>2264.927935</td>\n",
       "      <td>0.113313</td>\n",
       "      <td>2155.661327</td>\n",
       "      <td>-421.311127</td>\n",
       "      <td>85.343208</td>\n",
       "      <td>28.446869</td>\n",
       "      <td>2.614782</td>\n",
       "      <td>-13.211200</td>\n",
       "      <td>...</td>\n",
       "      <td>-2.706210</td>\n",
       "      <td>-0.365601</td>\n",
       "      <td>-0.139195</td>\n",
       "      <td>-0.330428</td>\n",
       "      <td>0.372793</td>\n",
       "      <td>-0.901228</td>\n",
       "      <td>-0.243663</td>\n",
       "      <td>-1.740499</td>\n",
       "      <td>-1.226440</td>\n",
       "      <td>3</td>\n",
       "    </tr>\n",
       "    <tr>\n",
       "      <th>1</th>\n",
       "      <td>0.014695</td>\n",
       "      <td>4187</td>\n",
       "      <td>2048.439454</td>\n",
       "      <td>0.107761</td>\n",
       "      <td>1615.496128</td>\n",
       "      <td>-395.098969</td>\n",
       "      <td>116.315102</td>\n",
       "      <td>43.762909</td>\n",
       "      <td>4.352540</td>\n",
       "      <td>-22.956352</td>\n",
       "      <td>...</td>\n",
       "      <td>-5.044736</td>\n",
       "      <td>-1.618791</td>\n",
       "      <td>-1.294750</td>\n",
       "      <td>-1.024295</td>\n",
       "      <td>0.475517</td>\n",
       "      <td>-2.952822</td>\n",
       "      <td>-1.434950</td>\n",
       "      <td>-2.280013</td>\n",
       "      <td>-1.151072</td>\n",
       "      <td>3</td>\n",
       "    </tr>\n",
       "    <tr>\n",
       "      <th>2</th>\n",
       "      <td>0.007265</td>\n",
       "      <td>5768</td>\n",
       "      <td>1310.587383</td>\n",
       "      <td>0.086195</td>\n",
       "      <td>2584.737258</td>\n",
       "      <td>-438.313232</td>\n",
       "      <td>67.215469</td>\n",
       "      <td>16.692242</td>\n",
       "      <td>5.171484</td>\n",
       "      <td>-2.399682</td>\n",
       "      <td>...</td>\n",
       "      <td>-1.078942</td>\n",
       "      <td>1.052208</td>\n",
       "      <td>1.117211</td>\n",
       "      <td>0.401828</td>\n",
       "      <td>-0.156043</td>\n",
       "      <td>-0.847795</td>\n",
       "      <td>-0.580407</td>\n",
       "      <td>-1.636151</td>\n",
       "      <td>-1.662564</td>\n",
       "      <td>3</td>\n",
       "    </tr>\n",
       "    <tr>\n",
       "      <th>3</th>\n",
       "      <td>0.047831</td>\n",
       "      <td>5681</td>\n",
       "      <td>95.177734</td>\n",
       "      <td>0.036277</td>\n",
       "      <td>2903.127592</td>\n",
       "      <td>-312.848206</td>\n",
       "      <td>143.507858</td>\n",
       "      <td>-44.703270</td>\n",
       "      <td>1.004310</td>\n",
       "      <td>-29.809708</td>\n",
       "      <td>...</td>\n",
       "      <td>5.896312</td>\n",
       "      <td>-4.720562</td>\n",
       "      <td>1.024957</td>\n",
       "      <td>-3.351448</td>\n",
       "      <td>1.455121</td>\n",
       "      <td>-1.456189</td>\n",
       "      <td>-2.079997</td>\n",
       "      <td>-2.217562</td>\n",
       "      <td>-0.387946</td>\n",
       "      <td>3</td>\n",
       "    </tr>\n",
       "    <tr>\n",
       "      <th>4</th>\n",
       "      <td>0.018793</td>\n",
       "      <td>3033</td>\n",
       "      <td>123.270886</td>\n",
       "      <td>0.032726</td>\n",
       "      <td>2203.600110</td>\n",
       "      <td>-429.136322</td>\n",
       "      <td>145.625961</td>\n",
       "      <td>22.025145</td>\n",
       "      <td>34.737606</td>\n",
       "      <td>-3.542709</td>\n",
       "      <td>...</td>\n",
       "      <td>0.353596</td>\n",
       "      <td>0.500646</td>\n",
       "      <td>0.937074</td>\n",
       "      <td>0.875274</td>\n",
       "      <td>1.580888</td>\n",
       "      <td>0.781794</td>\n",
       "      <td>0.254817</td>\n",
       "      <td>0.996495</td>\n",
       "      <td>0.570555</td>\n",
       "      <td>6</td>\n",
       "    </tr>\n",
       "    <tr>\n",
       "      <th>...</th>\n",
       "      <td>...</td>\n",
       "      <td>...</td>\n",
       "      <td>...</td>\n",
       "      <td>...</td>\n",
       "      <td>...</td>\n",
       "      <td>...</td>\n",
       "      <td>...</td>\n",
       "      <td>...</td>\n",
       "      <td>...</td>\n",
       "      <td>...</td>\n",
       "      <td>...</td>\n",
       "      <td>...</td>\n",
       "      <td>...</td>\n",
       "      <td>...</td>\n",
       "      <td>...</td>\n",
       "      <td>...</td>\n",
       "      <td>...</td>\n",
       "      <td>...</td>\n",
       "      <td>...</td>\n",
       "      <td>...</td>\n",
       "      <td>...</td>\n",
       "    </tr>\n",
       "    <tr>\n",
       "      <th>8727</th>\n",
       "      <td>0.237518</td>\n",
       "      <td>44354</td>\n",
       "      <td>550.453820</td>\n",
       "      <td>0.055861</td>\n",
       "      <td>6038.560906</td>\n",
       "      <td>-174.564743</td>\n",
       "      <td>68.354164</td>\n",
       "      <td>-31.522314</td>\n",
       "      <td>20.746210</td>\n",
       "      <td>-28.262726</td>\n",
       "      <td>...</td>\n",
       "      <td>-1.399260</td>\n",
       "      <td>-3.793235</td>\n",
       "      <td>-0.314907</td>\n",
       "      <td>-6.662869</td>\n",
       "      <td>7.868906</td>\n",
       "      <td>-9.190269</td>\n",
       "      <td>3.032317</td>\n",
       "      <td>-5.569743</td>\n",
       "      <td>-0.461770</td>\n",
       "      <td>4</td>\n",
       "    </tr>\n",
       "    <tr>\n",
       "      <th>8728</th>\n",
       "      <td>0.219639</td>\n",
       "      <td>39953</td>\n",
       "      <td>931.296241</td>\n",
       "      <td>0.072660</td>\n",
       "      <td>5551.270832</td>\n",
       "      <td>-143.695480</td>\n",
       "      <td>83.820740</td>\n",
       "      <td>-24.426477</td>\n",
       "      <td>17.307587</td>\n",
       "      <td>-36.093124</td>\n",
       "      <td>...</td>\n",
       "      <td>-0.571613</td>\n",
       "      <td>-2.336670</td>\n",
       "      <td>-1.361198</td>\n",
       "      <td>-5.476418</td>\n",
       "      <td>7.553002</td>\n",
       "      <td>-9.695344</td>\n",
       "      <td>6.655576</td>\n",
       "      <td>-7.686864</td>\n",
       "      <td>2.161717</td>\n",
       "      <td>4</td>\n",
       "    </tr>\n",
       "    <tr>\n",
       "      <th>8729</th>\n",
       "      <td>0.174812</td>\n",
       "      <td>31992</td>\n",
       "      <td>852.646596</td>\n",
       "      <td>0.069524</td>\n",
       "      <td>4953.979000</td>\n",
       "      <td>-150.329147</td>\n",
       "      <td>94.923241</td>\n",
       "      <td>-29.548103</td>\n",
       "      <td>14.780211</td>\n",
       "      <td>-38.644604</td>\n",
       "      <td>...</td>\n",
       "      <td>-1.391360</td>\n",
       "      <td>-0.595309</td>\n",
       "      <td>-1.223421</td>\n",
       "      <td>-2.410092</td>\n",
       "      <td>6.300669</td>\n",
       "      <td>-7.801015</td>\n",
       "      <td>7.522465</td>\n",
       "      <td>-8.240689</td>\n",
       "      <td>4.455863</td>\n",
       "      <td>4</td>\n",
       "    </tr>\n",
       "    <tr>\n",
       "      <th>8730</th>\n",
       "      <td>0.175702</td>\n",
       "      <td>32720</td>\n",
       "      <td>715.943486</td>\n",
       "      <td>0.063707</td>\n",
       "      <td>5065.636746</td>\n",
       "      <td>-163.875427</td>\n",
       "      <td>88.359772</td>\n",
       "      <td>-35.718800</td>\n",
       "      <td>12.791890</td>\n",
       "      <td>-36.949566</td>\n",
       "      <td>...</td>\n",
       "      <td>-0.722984</td>\n",
       "      <td>-0.622909</td>\n",
       "      <td>-0.561700</td>\n",
       "      <td>-1.851495</td>\n",
       "      <td>6.214291</td>\n",
       "      <td>-6.799572</td>\n",
       "      <td>7.248857</td>\n",
       "      <td>-6.847468</td>\n",
       "      <td>4.146056</td>\n",
       "      <td>4</td>\n",
       "    </tr>\n",
       "    <tr>\n",
       "      <th>8731</th>\n",
       "      <td>0.212608</td>\n",
       "      <td>39568</td>\n",
       "      <td>527.159823</td>\n",
       "      <td>0.054667</td>\n",
       "      <td>5728.114991</td>\n",
       "      <td>-166.675018</td>\n",
       "      <td>72.175522</td>\n",
       "      <td>-36.865952</td>\n",
       "      <td>14.634131</td>\n",
       "      <td>-33.778069</td>\n",
       "      <td>...</td>\n",
       "      <td>-1.534544</td>\n",
       "      <td>-4.825022</td>\n",
       "      <td>1.459178</td>\n",
       "      <td>-8.672048</td>\n",
       "      <td>6.474389</td>\n",
       "      <td>-10.223587</td>\n",
       "      <td>3.502012</td>\n",
       "      <td>-5.844539</td>\n",
       "      <td>-0.319190</td>\n",
       "      <td>4</td>\n",
       "    </tr>\n",
       "  </tbody>\n",
       "</table>\n",
       "<p>8732 rows × 46 columns</p>\n",
       "</div>"
      ],
      "text/plain": [
       "        zcrAvg  changeSign  energyValue  rmseValue      centAvg       mfcc1  \\\n",
       "0     0.009657        4593  2264.927935   0.113313  2155.661327 -421.311127   \n",
       "1     0.014695        4187  2048.439454   0.107761  1615.496128 -395.098969   \n",
       "2     0.007265        5768  1310.587383   0.086195  2584.737258 -438.313232   \n",
       "3     0.047831        5681    95.177734   0.036277  2903.127592 -312.848206   \n",
       "4     0.018793        3033   123.270886   0.032726  2203.600110 -429.136322   \n",
       "...        ...         ...          ...        ...          ...         ...   \n",
       "8727  0.237518       44354   550.453820   0.055861  6038.560906 -174.564743   \n",
       "8728  0.219639       39953   931.296241   0.072660  5551.270832 -143.695480   \n",
       "8729  0.174812       31992   852.646596   0.069524  4953.979000 -150.329147   \n",
       "8730  0.175702       32720   715.943486   0.063707  5065.636746 -163.875427   \n",
       "8731  0.212608       39568   527.159823   0.054667  5728.114991 -166.675018   \n",
       "\n",
       "           mfcc2      mfcc3      mfcc4      mfcc5  ...    mfcc32    mfcc33  \\\n",
       "0      85.343208  28.446869   2.614782 -13.211200  ... -2.706210 -0.365601   \n",
       "1     116.315102  43.762909   4.352540 -22.956352  ... -5.044736 -1.618791   \n",
       "2      67.215469  16.692242   5.171484  -2.399682  ... -1.078942  1.052208   \n",
       "3     143.507858 -44.703270   1.004310 -29.809708  ...  5.896312 -4.720562   \n",
       "4     145.625961  22.025145  34.737606  -3.542709  ...  0.353596  0.500646   \n",
       "...          ...        ...        ...        ...  ...       ...       ...   \n",
       "8727   68.354164 -31.522314  20.746210 -28.262726  ... -1.399260 -3.793235   \n",
       "8728   83.820740 -24.426477  17.307587 -36.093124  ... -0.571613 -2.336670   \n",
       "8729   94.923241 -29.548103  14.780211 -38.644604  ... -1.391360 -0.595309   \n",
       "8730   88.359772 -35.718800  12.791890 -36.949566  ... -0.722984 -0.622909   \n",
       "8731   72.175522 -36.865952  14.634131 -33.778069  ... -1.534544 -4.825022   \n",
       "\n",
       "        mfcc34    mfcc35    mfcc36     mfcc37    mfcc38    mfcc39    mfcc40  \\\n",
       "0    -0.139195 -0.330428  0.372793  -0.901228 -0.243663 -1.740499 -1.226440   \n",
       "1    -1.294750 -1.024295  0.475517  -2.952822 -1.434950 -2.280013 -1.151072   \n",
       "2     1.117211  0.401828 -0.156043  -0.847795 -0.580407 -1.636151 -1.662564   \n",
       "3     1.024957 -3.351448  1.455121  -1.456189 -2.079997 -2.217562 -0.387946   \n",
       "4     0.937074  0.875274  1.580888   0.781794  0.254817  0.996495  0.570555   \n",
       "...        ...       ...       ...        ...       ...       ...       ...   \n",
       "8727 -0.314907 -6.662869  7.868906  -9.190269  3.032317 -5.569743 -0.461770   \n",
       "8728 -1.361198 -5.476418  7.553002  -9.695344  6.655576 -7.686864  2.161717   \n",
       "8729 -1.223421 -2.410092  6.300669  -7.801015  7.522465 -8.240689  4.455863   \n",
       "8730 -0.561700 -1.851495  6.214291  -6.799572  7.248857 -6.847468  4.146056   \n",
       "8731  1.459178 -8.672048  6.474389 -10.223587  3.502012 -5.844539 -0.319190   \n",
       "\n",
       "      class  \n",
       "0         3  \n",
       "1         3  \n",
       "2         3  \n",
       "3         3  \n",
       "4         6  \n",
       "...     ...  \n",
       "8727      4  \n",
       "8728      4  \n",
       "8729      4  \n",
       "8730      4  \n",
       "8731      4  \n",
       "\n",
       "[8732 rows x 46 columns]"
      ]
     },
     "execution_count": 5,
     "metadata": {},
     "output_type": "execute_result"
    }
   ],
   "source": [
    "df"
   ]
  },
  {
   "cell_type": "code",
   "execution_count": 7,
   "id": "7f6d7be0",
   "metadata": {},
   "outputs": [],
   "source": [
    "# KLASYFIKACJA"
   ]
  },
  {
   "cell_type": "code",
   "execution_count": 8,
   "id": "39d5d48c",
   "metadata": {},
   "outputs": [],
   "source": [
    "from sklearn.model_selection import train_test_split\n",
    "from sklearn.preprocessing import MinMaxScaler"
   ]
  },
  {
   "cell_type": "code",
   "execution_count": 9,
   "id": "4ea75202",
   "metadata": {},
   "outputs": [],
   "source": [
    "X = df.drop(columns=['class'])"
   ]
  },
  {
   "cell_type": "code",
   "execution_count": 10,
   "id": "f578f999",
   "metadata": {},
   "outputs": [],
   "source": [
    "Y = df['class']"
   ]
  },
  {
   "cell_type": "code",
   "execution_count": 11,
   "id": "5e2de5a2",
   "metadata": {},
   "outputs": [],
   "source": [
    "x_train, x_test, y_train, y_test = train_test_split(X, Y, test_size= 0.2, random_state = 123)"
   ]
  },
  {
   "cell_type": "code",
   "execution_count": 12,
   "id": "9be9e920",
   "metadata": {},
   "outputs": [],
   "source": [
    "min_max_scaler = MinMaxScaler()"
   ]
  },
  {
   "cell_type": "code",
   "execution_count": 13,
   "id": "e4e32603",
   "metadata": {},
   "outputs": [],
   "source": [
    "x_train_norm = min_max_scaler.fit_transform(x_train)"
   ]
  },
  {
   "cell_type": "code",
   "execution_count": 14,
   "id": "e01f5416",
   "metadata": {},
   "outputs": [],
   "source": [
    "x_test_norm = min_max_scaler.transform(x_test)"
   ]
  },
  {
   "cell_type": "code",
   "execution_count": 16,
   "id": "d4a46de9",
   "metadata": {},
   "outputs": [
    {
     "data": {
      "text/plain": [
       "DecisionTreeClassifier()"
      ]
     },
     "execution_count": 16,
     "metadata": {},
     "output_type": "execute_result"
    }
   ],
   "source": [
    "# Drzewko\n",
    "from sklearn import tree\n",
    "decision_tree_model = tree.DecisionTreeClassifier()\n",
    "decision_tree_model.fit(x_train_norm, y_train)"
   ]
  },
  {
   "cell_type": "code",
   "execution_count": 17,
   "id": "992c8941",
   "metadata": {},
   "outputs": [],
   "source": [
    "y_pred_tree = decision_tree_model.predict(x_test_norm)"
   ]
  },
  {
   "cell_type": "code",
   "execution_count": 18,
   "id": "847e59fd",
   "metadata": {},
   "outputs": [],
   "source": [
    "from sklearn.metrics import confusion_matrix, classification_report"
   ]
  },
  {
   "cell_type": "code",
   "execution_count": 19,
   "id": "39f38edc",
   "metadata": {},
   "outputs": [
    {
     "data": {
      "text/plain": [
       "array([[176,   4,   4,   3,   1,   1,   0,   6,   1,  10],\n",
       "       [  3,  54,   6,   6,   9,   2,   3,   4,   4,   2],\n",
       "       [ 10,   3, 123,  18,   5,  10,   6,   1,   6,  22],\n",
       "       [  4,   5,  26, 133,   6,   4,  14,   1,   8,  13],\n",
       "       [  7,   6,  11,   5, 131,   1,   2,  13,   4,   8],\n",
       "       [  0,   1,   4,   8,   3, 169,   1,   0,   3,   5],\n",
       "       [  5,   0,   0,   8,   0,   0,  41,   4,   0,   1],\n",
       "       [  1,   1,   0,   1,  10,   2,   3, 179,   0,   1],\n",
       "       [  8,   2,   6,  13,   1,   4,   3,   3, 142,   5],\n",
       "       [  9,   6,  16,  18,  14,   6,   2,   6,   7, 120]], dtype=int64)"
      ]
     },
     "execution_count": 19,
     "metadata": {},
     "output_type": "execute_result"
    }
   ],
   "source": [
    "confusion_matrix(y_test, y_pred_tree)"
   ]
  },
  {
   "cell_type": "code",
   "execution_count": 20,
   "id": "d7b05588",
   "metadata": {},
   "outputs": [
    {
     "name": "stdout",
     "output_type": "stream",
     "text": [
      "              precision    recall  f1-score   support\n",
      "\n",
      "           0       0.79      0.85      0.82       206\n",
      "           1       0.66      0.58      0.62        93\n",
      "           2       0.63      0.60      0.61       204\n",
      "           3       0.62      0.62      0.62       214\n",
      "           4       0.73      0.70      0.71       188\n",
      "           5       0.85      0.87      0.86       194\n",
      "           6       0.55      0.69      0.61        59\n",
      "           7       0.82      0.90      0.86       198\n",
      "           8       0.81      0.76      0.78       187\n",
      "           9       0.64      0.59      0.61       204\n",
      "\n",
      "    accuracy                           0.73      1747\n",
      "   macro avg       0.71      0.72      0.71      1747\n",
      "weighted avg       0.72      0.73      0.72      1747\n",
      "\n"
     ]
    }
   ],
   "source": [
    "print(classification_report(y_test, y_pred_tree))"
   ]
  },
  {
   "cell_type": "code",
   "execution_count": 21,
   "id": "15ff3878",
   "metadata": {},
   "outputs": [],
   "source": [
    "# XGBoost\n",
    "import xgboost"
   ]
  },
  {
   "cell_type": "code",
   "execution_count": 22,
   "id": "bbc5e177",
   "metadata": {},
   "outputs": [],
   "source": [
    "xgboost_c = xgboost.XGBClassifier()"
   ]
  },
  {
   "cell_type": "code",
   "execution_count": 23,
   "id": "d4a292fc",
   "metadata": {},
   "outputs": [
    {
     "name": "stderr",
     "output_type": "stream",
     "text": [
      "C:\\Users\\Marcin\\Anaconda3\\lib\\site-packages\\xgboost\\sklearn.py:892: UserWarning: The use of label encoder in XGBClassifier is deprecated and will be removed in a future release. To remove this warning, do the following: 1) Pass option use_label_encoder=False when constructing XGBClassifier object; and 2) Encode your labels (y) as integers starting with 0, i.e. 0, 1, 2, ..., [num_class - 1].\n",
      "  warnings.warn(label_encoder_deprecation_msg, UserWarning)\n"
     ]
    },
    {
     "name": "stdout",
     "output_type": "stream",
     "text": [
      "[09:16:57] WARNING: C:/Users/Administrator/workspace/xgboost-win64_release_1.3.0/src/learner.cc:1061: Starting in XGBoost 1.3.0, the default evaluation metric used with the objective 'multi:softprob' was changed from 'merror' to 'mlogloss'. Explicitly set eval_metric if you'd like to restore the old behavior.\n"
     ]
    },
    {
     "data": {
      "text/plain": [
       "XGBClassifier(base_score=0.5, booster='gbtree', colsample_bylevel=1,\n",
       "              colsample_bynode=1, colsample_bytree=1, gamma=0, gpu_id=-1,\n",
       "              importance_type='gain', interaction_constraints='',\n",
       "              learning_rate=0.300000012, max_delta_step=0, max_depth=6,\n",
       "              min_child_weight=1, missing=nan, monotone_constraints='()',\n",
       "              n_estimators=100, n_jobs=12, num_parallel_tree=1,\n",
       "              objective='multi:softprob', random_state=0, reg_alpha=0,\n",
       "              reg_lambda=1, scale_pos_weight=None, subsample=1,\n",
       "              tree_method='exact', validate_parameters=1, verbosity=None)"
      ]
     },
     "execution_count": 23,
     "metadata": {},
     "output_type": "execute_result"
    }
   ],
   "source": [
    "xgboost_c.fit(x_train_norm, y_train)"
   ]
  },
  {
   "cell_type": "code",
   "execution_count": 24,
   "id": "c9266e87",
   "metadata": {},
   "outputs": [],
   "source": [
    "y_xgb_pred = xgboost_c.predict(x_test_norm) "
   ]
  },
  {
   "cell_type": "code",
   "execution_count": 25,
   "id": "534126b0",
   "metadata": {},
   "outputs": [
    {
     "data": {
      "text/plain": [
       "array([[199,   0,   2,   0,   0,   1,   0,   3,   1,   0],\n",
       "       [  3,  77,   0,   1,   4,   2,   0,   2,   0,   4],\n",
       "       [  1,   1, 183,   3,   0,   3,   1,   0,   3,   9],\n",
       "       [  3,   0,  12, 181,   5,   3,   4,   0,   2,   4],\n",
       "       [  0,   0,   2,   0, 178,   1,   0,   6,   0,   1],\n",
       "       [  0,   0,   2,   2,   0, 185,   0,   0,   2,   3],\n",
       "       [  0,   0,   1,   3,   0,   0,  54,   1,   0,   0],\n",
       "       [  0,   0,   0,   0,   2,   0,   0, 196,   0,   0],\n",
       "       [  0,   0,   4,   1,   0,   1,   0,   0, 181,   0],\n",
       "       [  1,   2,   6,   1,   5,   3,   0,   2,   8, 176]], dtype=int64)"
      ]
     },
     "execution_count": 25,
     "metadata": {},
     "output_type": "execute_result"
    }
   ],
   "source": [
    "confusion_matrix(y_test, y_xgb_pred)"
   ]
  },
  {
   "cell_type": "code",
   "execution_count": 26,
   "id": "65768a44",
   "metadata": {},
   "outputs": [
    {
     "name": "stdout",
     "output_type": "stream",
     "text": [
      "              precision    recall  f1-score   support\n",
      "\n",
      "           0       0.96      0.97      0.96       206\n",
      "           1       0.96      0.83      0.89        93\n",
      "           2       0.86      0.90      0.88       204\n",
      "           3       0.94      0.85      0.89       214\n",
      "           4       0.92      0.95      0.93       188\n",
      "           5       0.93      0.95      0.94       194\n",
      "           6       0.92      0.92      0.92        59\n",
      "           7       0.93      0.99      0.96       198\n",
      "           8       0.92      0.97      0.94       187\n",
      "           9       0.89      0.86      0.88       204\n",
      "\n",
      "    accuracy                           0.92      1747\n",
      "   macro avg       0.92      0.92      0.92      1747\n",
      "weighted avg       0.92      0.92      0.92      1747\n",
      "\n"
     ]
    }
   ],
   "source": [
    "print(classification_report(y_test, y_xgb_pred))"
   ]
  },
  {
   "cell_type": "code",
   "execution_count": 27,
   "id": "9897ee19",
   "metadata": {},
   "outputs": [],
   "source": [
    "corr_matrix = X.corr().abs()"
   ]
  },
  {
   "cell_type": "code",
   "execution_count": 28,
   "id": "c6990644",
   "metadata": {},
   "outputs": [],
   "source": [
    "# Próg max. skorelowania\n",
    "thresh = 0.8"
   ]
  },
  {
   "cell_type": "code",
   "execution_count": 29,
   "id": "769b14e1",
   "metadata": {},
   "outputs": [],
   "source": [
    "# Wystarczy macierz górnotrójkątna (macierz symetryczna)\n",
    "upper_tri_corr = corr_matrix.where(np.triu(np.ones(corr_matrix.shape), k=1).astype(np.bool))"
   ]
  },
  {
   "cell_type": "code",
   "execution_count": 30,
   "id": "7c669371",
   "metadata": {},
   "outputs": [],
   "source": [
    "triu_cols = upper_tri_corr.columns"
   ]
  },
  {
   "cell_type": "code",
   "execution_count": 31,
   "id": "726f7964",
   "metadata": {},
   "outputs": [],
   "source": [
    "high_correlated_features = [column for column in triu_cols if any(upper_tri_corr[column] > thresh)]"
   ]
  },
  {
   "cell_type": "code",
   "execution_count": 32,
   "id": "e0d4843f",
   "metadata": {},
   "outputs": [
    {
     "data": {
      "text/plain": [
       "['changeSign', 'rmseValue', 'centAvg', 'mfcc2']"
      ]
     },
     "execution_count": 32,
     "metadata": {},
     "output_type": "execute_result"
    }
   ],
   "source": [
    "high_correlated_features"
   ]
  },
  {
   "cell_type": "code",
   "execution_count": 34,
   "id": "8bb01732",
   "metadata": {},
   "outputs": [],
   "source": [
    "df_noCorr = X.drop(columns=high_correlated_features)"
   ]
  },
  {
   "cell_type": "code",
   "execution_count": 35,
   "id": "c3e82a33",
   "metadata": {},
   "outputs": [
    {
     "name": "stdout",
     "output_type": "stream",
     "text": [
      "<class 'pandas.core.frame.DataFrame'>\n",
      "RangeIndex: 8732 entries, 0 to 8731\n",
      "Data columns (total 41 columns):\n",
      " #   Column       Non-Null Count  Dtype  \n",
      "---  ------       --------------  -----  \n",
      " 0   zcrAvg       8732 non-null   float64\n",
      " 1   energyValue  8732 non-null   float64\n",
      " 2   mfcc1        8732 non-null   float64\n",
      " 3   mfcc3        8732 non-null   float64\n",
      " 4   mfcc4        8732 non-null   float64\n",
      " 5   mfcc5        8732 non-null   float64\n",
      " 6   mfcc6        8732 non-null   float64\n",
      " 7   mfcc7        8732 non-null   float64\n",
      " 8   mfcc8        8732 non-null   float64\n",
      " 9   mfcc9        8732 non-null   float64\n",
      " 10  mfcc10       8732 non-null   float64\n",
      " 11  mfcc11       8732 non-null   float64\n",
      " 12  mfcc12       8732 non-null   float64\n",
      " 13  mfcc13       8732 non-null   float64\n",
      " 14  mfcc14       8732 non-null   float64\n",
      " 15  mfcc15       8732 non-null   float64\n",
      " 16  mfcc16       8732 non-null   float64\n",
      " 17  mfcc17       8732 non-null   float64\n",
      " 18  mfcc18       8732 non-null   float64\n",
      " 19  mfcc19       8732 non-null   float64\n",
      " 20  mfcc20       8732 non-null   float64\n",
      " 21  mfcc21       8732 non-null   float64\n",
      " 22  mfcc22       8732 non-null   float64\n",
      " 23  mfcc23       8732 non-null   float64\n",
      " 24  mfcc24       8732 non-null   float64\n",
      " 25  mfcc25       8732 non-null   float64\n",
      " 26  mfcc26       8732 non-null   float64\n",
      " 27  mfcc27       8732 non-null   float64\n",
      " 28  mfcc28       8732 non-null   float64\n",
      " 29  mfcc29       8732 non-null   float64\n",
      " 30  mfcc30       8732 non-null   float64\n",
      " 31  mfcc31       8732 non-null   float64\n",
      " 32  mfcc32       8732 non-null   float64\n",
      " 33  mfcc33       8732 non-null   float64\n",
      " 34  mfcc34       8732 non-null   float64\n",
      " 35  mfcc35       8732 non-null   float64\n",
      " 36  mfcc36       8732 non-null   float64\n",
      " 37  mfcc37       8732 non-null   float64\n",
      " 38  mfcc38       8732 non-null   float64\n",
      " 39  mfcc39       8732 non-null   float64\n",
      " 40  mfcc40       8732 non-null   float64\n",
      "dtypes: float64(41)\n",
      "memory usage: 2.7 MB\n"
     ]
    }
   ],
   "source": [
    "df_noCorr.info()"
   ]
  },
  {
   "cell_type": "code",
   "execution_count": 36,
   "id": "27753b8d",
   "metadata": {},
   "outputs": [],
   "source": [
    "X = df_noCorr\n",
    "Y = df['class']\n",
    "x_train, x_test, y_train, y_test = train_test_split(X, Y, test_size= 0.2, random_state = 123)\n",
    "min_max_scaler = MinMaxScaler()\n",
    "x_train_norm = min_max_scaler.fit_transform(x_train)\n",
    "x_test_norm = min_max_scaler.transform(x_test)"
   ]
  },
  {
   "cell_type": "code",
   "execution_count": 37,
   "id": "d2c32c50",
   "metadata": {},
   "outputs": [],
   "source": [
    "# Drzewko\n",
    "from sklearn import tree\n",
    "decision_tree_model = tree.DecisionTreeClassifier()\n",
    "decision_tree_model.fit(x_train_norm, y_train)\n",
    "y_pred_tree = decision_tree_model.predict(x_test_norm)"
   ]
  },
  {
   "cell_type": "code",
   "execution_count": 38,
   "id": "822eb2d1",
   "metadata": {},
   "outputs": [
    {
     "data": {
      "text/plain": [
       "array([[170,   3,   3,   5,   2,   3,   0,   8,   2,  10],\n",
       "       [  4,  47,   8,   5,   3,   3,   4,   3,   3,  13],\n",
       "       [ 12,   6, 119,  14,   2,   6,  14,   2,   7,  22],\n",
       "       [  1,   2,  21, 138,  10,   3,  14,   1,   6,  18],\n",
       "       [  3,   2,  12,  11, 133,   4,   1,  11,   4,   7],\n",
       "       [  3,   0,   4,   3,   2, 171,   4,   2,   2,   3],\n",
       "       [  0,   2,   2,   7,   2,   0,  39,   2,   1,   4],\n",
       "       [  3,   2,   0,   2,   6,   1,   2, 179,   2,   1],\n",
       "       [  9,   1,   7,  12,   3,   0,   2,   1, 145,   7],\n",
       "       [  3,   9,  21,   9,   6,   6,   5,  10,   8, 127]], dtype=int64)"
      ]
     },
     "execution_count": 38,
     "metadata": {},
     "output_type": "execute_result"
    }
   ],
   "source": [
    "confusion_matrix(y_test, y_pred_tree)"
   ]
  },
  {
   "cell_type": "code",
   "execution_count": 40,
   "id": "a731bbed",
   "metadata": {},
   "outputs": [
    {
     "name": "stdout",
     "output_type": "stream",
     "text": [
      "              precision    recall  f1-score   support\n",
      "\n",
      "           0       0.82      0.83      0.82       206\n",
      "           1       0.64      0.51      0.56        93\n",
      "           2       0.60      0.58      0.59       204\n",
      "           3       0.67      0.64      0.66       214\n",
      "           4       0.79      0.71      0.75       188\n",
      "           5       0.87      0.88      0.87       194\n",
      "           6       0.46      0.66      0.54        59\n",
      "           7       0.82      0.90      0.86       198\n",
      "           8       0.81      0.78      0.79       187\n",
      "           9       0.60      0.62      0.61       204\n",
      "\n",
      "    accuracy                           0.73      1747\n",
      "   macro avg       0.71      0.71      0.71      1747\n",
      "weighted avg       0.73      0.73      0.73      1747\n",
      "\n"
     ]
    }
   ],
   "source": [
    "print(classification_report(y_test, y_pred_tree))"
   ]
  },
  {
   "cell_type": "code",
   "execution_count": 41,
   "id": "384b4d44",
   "metadata": {},
   "outputs": [
    {
     "name": "stderr",
     "output_type": "stream",
     "text": [
      "C:\\Users\\Marcin\\Anaconda3\\lib\\site-packages\\xgboost\\sklearn.py:892: UserWarning: The use of label encoder in XGBClassifier is deprecated and will be removed in a future release. To remove this warning, do the following: 1) Pass option use_label_encoder=False when constructing XGBClassifier object; and 2) Encode your labels (y) as integers starting with 0, i.e. 0, 1, 2, ..., [num_class - 1].\n",
      "  warnings.warn(label_encoder_deprecation_msg, UserWarning)\n"
     ]
    },
    {
     "name": "stdout",
     "output_type": "stream",
     "text": [
      "[09:22:12] WARNING: C:/Users/Administrator/workspace/xgboost-win64_release_1.3.0/src/learner.cc:1061: Starting in XGBoost 1.3.0, the default evaluation metric used with the objective 'multi:softprob' was changed from 'merror' to 'mlogloss'. Explicitly set eval_metric if you'd like to restore the old behavior.\n"
     ]
    }
   ],
   "source": [
    "#XGBC\n",
    "xgboost_c = xgboost.XGBClassifier()\n",
    "xgboost_c.fit(x_train_norm, y_train)\n",
    "y_xgb_pred = xgboost_c.predict(x_test_norm)"
   ]
  },
  {
   "cell_type": "code",
   "execution_count": 42,
   "id": "3fc1addf",
   "metadata": {},
   "outputs": [
    {
     "data": {
      "text/plain": [
       "array([[201,   0,   1,   0,   0,   0,   0,   3,   1,   0],\n",
       "       [  1,  72,   1,   3,   8,   0,   0,   2,   0,   6],\n",
       "       [  5,   0, 182,   4,   0,   2,   1,   0,   1,   9],\n",
       "       [  2,   1,  14, 176,   8,   2,   2,   0,   4,   5],\n",
       "       [  1,   0,   6,   1, 172,   0,   1,   4,   1,   2],\n",
       "       [  0,   0,   5,   1,   1, 185,   0,   0,   1,   1],\n",
       "       [  0,   0,   2,   3,   0,   0,  53,   1,   0,   0],\n",
       "       [  0,   0,   1,   0,   2,   0,   0, 195,   0,   0],\n",
       "       [  0,   0,   4,   1,   0,   1,   0,   0, 180,   1],\n",
       "       [  1,   2,   7,   5,   4,   2,   0,   3,   5, 175]], dtype=int64)"
      ]
     },
     "execution_count": 42,
     "metadata": {},
     "output_type": "execute_result"
    }
   ],
   "source": [
    "confusion_matrix(y_test, y_xgb_pred)"
   ]
  },
  {
   "cell_type": "code",
   "execution_count": 43,
   "id": "dd36c6aa",
   "metadata": {},
   "outputs": [
    {
     "name": "stdout",
     "output_type": "stream",
     "text": [
      "              precision    recall  f1-score   support\n",
      "\n",
      "           0       0.95      0.98      0.96       206\n",
      "           1       0.96      0.77      0.86        93\n",
      "           2       0.82      0.89      0.85       204\n",
      "           3       0.91      0.82      0.86       214\n",
      "           4       0.88      0.91      0.90       188\n",
      "           5       0.96      0.95      0.96       194\n",
      "           6       0.93      0.90      0.91        59\n",
      "           7       0.94      0.98      0.96       198\n",
      "           8       0.93      0.96      0.95       187\n",
      "           9       0.88      0.86      0.87       204\n",
      "\n",
      "    accuracy                           0.91      1747\n",
      "   macro avg       0.92      0.90      0.91      1747\n",
      "weighted avg       0.91      0.91      0.91      1747\n",
      "\n"
     ]
    }
   ],
   "source": [
    "print(classification_report(y_test, y_xgb_pred))"
   ]
  },
  {
   "cell_type": "code",
   "execution_count": 44,
   "id": "4c9f117f",
   "metadata": {},
   "outputs": [],
   "source": [
    "# Klasteryzacja"
   ]
  },
  {
   "cell_type": "code",
   "execution_count": 45,
   "id": "cc095c66",
   "metadata": {},
   "outputs": [],
   "source": [
    "min_max_scaler = MinMaxScaler()"
   ]
  },
  {
   "cell_type": "code",
   "execution_count": 46,
   "id": "9f7e7d20",
   "metadata": {},
   "outputs": [],
   "source": [
    "X_clusters = min_max_scaler.fit_transform(X)"
   ]
  },
  {
   "cell_type": "code",
   "execution_count": 47,
   "id": "3b73354a",
   "metadata": {},
   "outputs": [],
   "source": [
    "# K-means\n",
    "from sklearn.cluster import KMeans"
   ]
  },
  {
   "cell_type": "code",
   "execution_count": 49,
   "id": "73d9048d",
   "metadata": {},
   "outputs": [],
   "source": [
    "# Sprawdzamy klasteryzację dla max 30 klastrów"
   ]
  },
  {
   "cell_type": "code",
   "execution_count": 50,
   "id": "5f5476c5",
   "metadata": {},
   "outputs": [],
   "source": [
    "sum_sqr_distances = []\n",
    "clusters = 31\n",
    "\n",
    "for cluster_no in range(1, clusters):\n",
    "    K_mean = KMeans(n_clusters=cluster_no)\n",
    "    K_mean.fit(X_clusters)\n",
    "    sum_sqr_distances.append(K_mean.inertia_)"
   ]
  },
  {
   "cell_type": "code",
   "execution_count": 52,
   "id": "0102f1e3",
   "metadata": {},
   "outputs": [
    {
     "data": {
      "text/plain": [
       "Text(0.5, 1.0, 'Elbow method')"
      ]
     },
     "execution_count": 52,
     "metadata": {},
     "output_type": "execute_result"
    },
    {
     "data": {
      "image/png": "[encoded data removed]",
      "text/plain": [
       "<Figure size 1080x720 with 1 Axes>"
      ]
     },
     "metadata": {
      "needs_background": "light"
     },
     "output_type": "display_data"
    }
   ],
   "source": [
    "import matplotlib.pyplot as plt\n",
    "# Elbow method (metoda łokciowa)\n",
    "plt.figure(figsize=(15, 10))\n",
    "plt.plot(list(range(1, clusters)), sum_sqr_distances, '-o')\n",
    "plt.xlabel('Clusters')\n",
    "plt.ylabel('Sum of squared distances')\n",
    "plt.title('Elbow method')"
   ]
  },
  {
   "cell_type": "code",
   "execution_count": 53,
   "id": "669e21ec",
   "metadata": {},
   "outputs": [
    {
     "data": {
      "text/plain": [
       "KMeans(n_clusters=14)"
      ]
     },
     "execution_count": 53,
     "metadata": {},
     "output_type": "execute_result"
    }
   ],
   "source": [
    "# Wybieramy 14 klastrów do dlaszej analizy\n",
    "K_mean = KMeans(n_clusters=14)\n",
    "K_mean.fit(X_clusters)"
   ]
  },
  {
   "cell_type": "code",
   "execution_count": 54,
   "id": "355e7a2d",
   "metadata": {},
   "outputs": [],
   "source": [
    "# Analzia klastrów"
   ]
  },
  {
   "cell_type": "code",
   "execution_count": 55,
   "id": "d9b955b9",
   "metadata": {},
   "outputs": [],
   "source": [
    "df_noCorr_ = df_noCorr.copy()"
   ]
  },
  {
   "cell_type": "code",
   "execution_count": 56,
   "id": "ffba4724",
   "metadata": {},
   "outputs": [],
   "source": [
    "df_noCorr_['class'] = df['class']"
   ]
  },
  {
   "cell_type": "code",
   "execution_count": 57,
   "id": "1c4f7877",
   "metadata": {},
   "outputs": [],
   "source": [
    "labels = pd.DataFrame(K_mean.labels_)"
   ]
  },
  {
   "cell_type": "code",
   "execution_count": 59,
   "id": "bcee19b5",
   "metadata": {},
   "outputs": [],
   "source": [
    "df_noCorr_['labels'] = labels"
   ]
  },
  {
   "cell_type": "code",
   "execution_count": 60,
   "id": "3aaf876f",
   "metadata": {},
   "outputs": [
    {
     "data": {
      "text/html": [
       "<div>\n",
       "<style scoped>\n",
       "    .dataframe tbody tr th:only-of-type {\n",
       "        vertical-align: middle;\n",
       "    }\n",
       "\n",
       "    .dataframe tbody tr th {\n",
       "        vertical-align: top;\n",
       "    }\n",
       "\n",
       "    .dataframe thead th {\n",
       "        text-align: right;\n",
       "    }\n",
       "</style>\n",
       "<table border=\"1\" class=\"dataframe\">\n",
       "  <thead>\n",
       "    <tr style=\"text-align: right;\">\n",
       "      <th></th>\n",
       "      <th>zcrAvg</th>\n",
       "      <th>energyValue</th>\n",
       "      <th>mfcc1</th>\n",
       "      <th>mfcc3</th>\n",
       "      <th>mfcc4</th>\n",
       "      <th>mfcc5</th>\n",
       "      <th>mfcc6</th>\n",
       "      <th>mfcc7</th>\n",
       "      <th>mfcc8</th>\n",
       "      <th>mfcc9</th>\n",
       "      <th>...</th>\n",
       "      <th>mfcc33</th>\n",
       "      <th>mfcc34</th>\n",
       "      <th>mfcc35</th>\n",
       "      <th>mfcc36</th>\n",
       "      <th>mfcc37</th>\n",
       "      <th>mfcc38</th>\n",
       "      <th>mfcc39</th>\n",
       "      <th>mfcc40</th>\n",
       "      <th>class</th>\n",
       "      <th>labels</th>\n",
       "    </tr>\n",
       "  </thead>\n",
       "  <tbody>\n",
       "    <tr>\n",
       "      <th>0</th>\n",
       "      <td>0.009657</td>\n",
       "      <td>2264.927935</td>\n",
       "      <td>-421.311127</td>\n",
       "      <td>28.446869</td>\n",
       "      <td>2.614782</td>\n",
       "      <td>-13.211200</td>\n",
       "      <td>0.732843</td>\n",
       "      <td>1.176167</td>\n",
       "      <td>-8.094849</td>\n",
       "      <td>-9.270786</td>\n",
       "      <td>...</td>\n",
       "      <td>-0.365601</td>\n",
       "      <td>-0.139195</td>\n",
       "      <td>-0.330428</td>\n",
       "      <td>0.372793</td>\n",
       "      <td>-0.901228</td>\n",
       "      <td>-0.243663</td>\n",
       "      <td>-1.740499</td>\n",
       "      <td>-1.226440</td>\n",
       "      <td>3</td>\n",
       "      <td>10</td>\n",
       "    </tr>\n",
       "    <tr>\n",
       "      <th>1</th>\n",
       "      <td>0.014695</td>\n",
       "      <td>2048.439454</td>\n",
       "      <td>-395.098969</td>\n",
       "      <td>43.762909</td>\n",
       "      <td>4.352540</td>\n",
       "      <td>-22.956352</td>\n",
       "      <td>-2.288176</td>\n",
       "      <td>-0.769566</td>\n",
       "      <td>-16.070770</td>\n",
       "      <td>-18.615417</td>\n",
       "      <td>...</td>\n",
       "      <td>-1.618791</td>\n",
       "      <td>-1.294750</td>\n",
       "      <td>-1.024295</td>\n",
       "      <td>0.475517</td>\n",
       "      <td>-2.952822</td>\n",
       "      <td>-1.434950</td>\n",
       "      <td>-2.280013</td>\n",
       "      <td>-1.151072</td>\n",
       "      <td>3</td>\n",
       "      <td>10</td>\n",
       "    </tr>\n",
       "    <tr>\n",
       "      <th>2</th>\n",
       "      <td>0.007265</td>\n",
       "      <td>1310.587383</td>\n",
       "      <td>-438.313232</td>\n",
       "      <td>16.692242</td>\n",
       "      <td>5.171484</td>\n",
       "      <td>-2.399682</td>\n",
       "      <td>5.927380</td>\n",
       "      <td>1.809868</td>\n",
       "      <td>-4.306139</td>\n",
       "      <td>-3.844719</td>\n",
       "      <td>...</td>\n",
       "      <td>1.052208</td>\n",
       "      <td>1.117211</td>\n",
       "      <td>0.401828</td>\n",
       "      <td>-0.156043</td>\n",
       "      <td>-0.847795</td>\n",
       "      <td>-0.580407</td>\n",
       "      <td>-1.636151</td>\n",
       "      <td>-1.662564</td>\n",
       "      <td>3</td>\n",
       "      <td>10</td>\n",
       "    </tr>\n",
       "    <tr>\n",
       "      <th>3</th>\n",
       "      <td>0.047831</td>\n",
       "      <td>95.177734</td>\n",
       "      <td>-312.848206</td>\n",
       "      <td>-44.703270</td>\n",
       "      <td>1.004310</td>\n",
       "      <td>-29.809708</td>\n",
       "      <td>16.589455</td>\n",
       "      <td>-25.814871</td>\n",
       "      <td>17.250078</td>\n",
       "      <td>-11.337409</td>\n",
       "      <td>...</td>\n",
       "      <td>-4.720562</td>\n",
       "      <td>1.024957</td>\n",
       "      <td>-3.351448</td>\n",
       "      <td>1.455121</td>\n",
       "      <td>-1.456189</td>\n",
       "      <td>-2.079997</td>\n",
       "      <td>-2.217562</td>\n",
       "      <td>-0.387946</td>\n",
       "      <td>3</td>\n",
       "      <td>8</td>\n",
       "    </tr>\n",
       "    <tr>\n",
       "      <th>4</th>\n",
       "      <td>0.018793</td>\n",
       "      <td>123.270886</td>\n",
       "      <td>-429.136322</td>\n",
       "      <td>22.025145</td>\n",
       "      <td>34.737606</td>\n",
       "      <td>-3.542709</td>\n",
       "      <td>2.913114</td>\n",
       "      <td>-4.891851</td>\n",
       "      <td>0.389928</td>\n",
       "      <td>1.503981</td>\n",
       "      <td>...</td>\n",
       "      <td>0.500646</td>\n",
       "      <td>0.937074</td>\n",
       "      <td>0.875274</td>\n",
       "      <td>1.580888</td>\n",
       "      <td>0.781794</td>\n",
       "      <td>0.254817</td>\n",
       "      <td>0.996495</td>\n",
       "      <td>0.570555</td>\n",
       "      <td>6</td>\n",
       "      <td>4</td>\n",
       "    </tr>\n",
       "    <tr>\n",
       "      <th>...</th>\n",
       "      <td>...</td>\n",
       "      <td>...</td>\n",
       "      <td>...</td>\n",
       "      <td>...</td>\n",
       "      <td>...</td>\n",
       "      <td>...</td>\n",
       "      <td>...</td>\n",
       "      <td>...</td>\n",
       "      <td>...</td>\n",
       "      <td>...</td>\n",
       "      <td>...</td>\n",
       "      <td>...</td>\n",
       "      <td>...</td>\n",
       "      <td>...</td>\n",
       "      <td>...</td>\n",
       "      <td>...</td>\n",
       "      <td>...</td>\n",
       "      <td>...</td>\n",
       "      <td>...</td>\n",
       "      <td>...</td>\n",
       "      <td>...</td>\n",
       "    </tr>\n",
       "    <tr>\n",
       "      <th>8727</th>\n",
       "      <td>0.237518</td>\n",
       "      <td>550.453820</td>\n",
       "      <td>-174.564743</td>\n",
       "      <td>-31.522314</td>\n",
       "      <td>20.746210</td>\n",
       "      <td>-28.262726</td>\n",
       "      <td>21.883160</td>\n",
       "      <td>-28.487766</td>\n",
       "      <td>-8.599425</td>\n",
       "      <td>-8.041726</td>\n",
       "      <td>...</td>\n",
       "      <td>-3.793235</td>\n",
       "      <td>-0.314907</td>\n",
       "      <td>-6.662869</td>\n",
       "      <td>7.868906</td>\n",
       "      <td>-9.190269</td>\n",
       "      <td>3.032317</td>\n",
       "      <td>-5.569743</td>\n",
       "      <td>-0.461770</td>\n",
       "      <td>4</td>\n",
       "      <td>3</td>\n",
       "    </tr>\n",
       "    <tr>\n",
       "      <th>8728</th>\n",
       "      <td>0.219639</td>\n",
       "      <td>931.296241</td>\n",
       "      <td>-143.695480</td>\n",
       "      <td>-24.426477</td>\n",
       "      <td>17.307587</td>\n",
       "      <td>-36.093124</td>\n",
       "      <td>17.709528</td>\n",
       "      <td>-31.753315</td>\n",
       "      <td>-13.125114</td>\n",
       "      <td>-8.738565</td>\n",
       "      <td>...</td>\n",
       "      <td>-2.336670</td>\n",
       "      <td>-1.361198</td>\n",
       "      <td>-5.476418</td>\n",
       "      <td>7.553002</td>\n",
       "      <td>-9.695344</td>\n",
       "      <td>6.655576</td>\n",
       "      <td>-7.686864</td>\n",
       "      <td>2.161717</td>\n",
       "      <td>4</td>\n",
       "      <td>3</td>\n",
       "    </tr>\n",
       "    <tr>\n",
       "      <th>8729</th>\n",
       "      <td>0.174812</td>\n",
       "      <td>852.646596</td>\n",
       "      <td>-150.329147</td>\n",
       "      <td>-29.548103</td>\n",
       "      <td>14.780211</td>\n",
       "      <td>-38.644604</td>\n",
       "      <td>14.938634</td>\n",
       "      <td>-34.834194</td>\n",
       "      <td>-14.373589</td>\n",
       "      <td>-10.865707</td>\n",
       "      <td>...</td>\n",
       "      <td>-0.595309</td>\n",
       "      <td>-1.223421</td>\n",
       "      <td>-2.410092</td>\n",
       "      <td>6.300669</td>\n",
       "      <td>-7.801015</td>\n",
       "      <td>7.522465</td>\n",
       "      <td>-8.240689</td>\n",
       "      <td>4.455863</td>\n",
       "      <td>4</td>\n",
       "      <td>3</td>\n",
       "    </tr>\n",
       "    <tr>\n",
       "      <th>8730</th>\n",
       "      <td>0.175702</td>\n",
       "      <td>715.943486</td>\n",
       "      <td>-163.875427</td>\n",
       "      <td>-35.718800</td>\n",
       "      <td>12.791890</td>\n",
       "      <td>-36.949566</td>\n",
       "      <td>14.856236</td>\n",
       "      <td>-34.852070</td>\n",
       "      <td>-13.499043</td>\n",
       "      <td>-12.108112</td>\n",
       "      <td>...</td>\n",
       "      <td>-0.622909</td>\n",
       "      <td>-0.561700</td>\n",
       "      <td>-1.851495</td>\n",
       "      <td>6.214291</td>\n",
       "      <td>-6.799572</td>\n",
       "      <td>7.248857</td>\n",
       "      <td>-6.847468</td>\n",
       "      <td>4.146056</td>\n",
       "      <td>4</td>\n",
       "      <td>3</td>\n",
       "    </tr>\n",
       "    <tr>\n",
       "      <th>8731</th>\n",
       "      <td>0.212608</td>\n",
       "      <td>527.159823</td>\n",
       "      <td>-166.675018</td>\n",
       "      <td>-36.865952</td>\n",
       "      <td>14.634131</td>\n",
       "      <td>-33.778069</td>\n",
       "      <td>18.064293</td>\n",
       "      <td>-32.288498</td>\n",
       "      <td>-11.847269</td>\n",
       "      <td>-10.580260</td>\n",
       "      <td>...</td>\n",
       "      <td>-4.825022</td>\n",
       "      <td>1.459178</td>\n",
       "      <td>-8.672048</td>\n",
       "      <td>6.474389</td>\n",
       "      <td>-10.223587</td>\n",
       "      <td>3.502012</td>\n",
       "      <td>-5.844539</td>\n",
       "      <td>-0.319190</td>\n",
       "      <td>4</td>\n",
       "      <td>3</td>\n",
       "    </tr>\n",
       "  </tbody>\n",
       "</table>\n",
       "<p>8732 rows × 43 columns</p>\n",
       "</div>"
      ],
      "text/plain": [
       "        zcrAvg  energyValue       mfcc1      mfcc3      mfcc4      mfcc5  \\\n",
       "0     0.009657  2264.927935 -421.311127  28.446869   2.614782 -13.211200   \n",
       "1     0.014695  2048.439454 -395.098969  43.762909   4.352540 -22.956352   \n",
       "2     0.007265  1310.587383 -438.313232  16.692242   5.171484  -2.399682   \n",
       "3     0.047831    95.177734 -312.848206 -44.703270   1.004310 -29.809708   \n",
       "4     0.018793   123.270886 -429.136322  22.025145  34.737606  -3.542709   \n",
       "...        ...          ...         ...        ...        ...        ...   \n",
       "8727  0.237518   550.453820 -174.564743 -31.522314  20.746210 -28.262726   \n",
       "8728  0.219639   931.296241 -143.695480 -24.426477  17.307587 -36.093124   \n",
       "8729  0.174812   852.646596 -150.329147 -29.548103  14.780211 -38.644604   \n",
       "8730  0.175702   715.943486 -163.875427 -35.718800  12.791890 -36.949566   \n",
       "8731  0.212608   527.159823 -166.675018 -36.865952  14.634131 -33.778069   \n",
       "\n",
       "          mfcc6      mfcc7      mfcc8      mfcc9  ...    mfcc33    mfcc34  \\\n",
       "0      0.732843   1.176167  -8.094849  -9.270786  ... -0.365601 -0.139195   \n",
       "1     -2.288176  -0.769566 -16.070770 -18.615417  ... -1.618791 -1.294750   \n",
       "2      5.927380   1.809868  -4.306139  -3.844719  ...  1.052208  1.117211   \n",
       "3     16.589455 -25.814871  17.250078 -11.337409  ... -4.720562  1.024957   \n",
       "4      2.913114  -4.891851   0.389928   1.503981  ...  0.500646  0.937074   \n",
       "...         ...        ...        ...        ...  ...       ...       ...   \n",
       "8727  21.883160 -28.487766  -8.599425  -8.041726  ... -3.793235 -0.314907   \n",
       "8728  17.709528 -31.753315 -13.125114  -8.738565  ... -2.336670 -1.361198   \n",
       "8729  14.938634 -34.834194 -14.373589 -10.865707  ... -0.595309 -1.223421   \n",
       "8730  14.856236 -34.852070 -13.499043 -12.108112  ... -0.622909 -0.561700   \n",
       "8731  18.064293 -32.288498 -11.847269 -10.580260  ... -4.825022  1.459178   \n",
       "\n",
       "        mfcc35    mfcc36     mfcc37    mfcc38    mfcc39    mfcc40  class  \\\n",
       "0    -0.330428  0.372793  -0.901228 -0.243663 -1.740499 -1.226440      3   \n",
       "1    -1.024295  0.475517  -2.952822 -1.434950 -2.280013 -1.151072      3   \n",
       "2     0.401828 -0.156043  -0.847795 -0.580407 -1.636151 -1.662564      3   \n",
       "3    -3.351448  1.455121  -1.456189 -2.079997 -2.217562 -0.387946      3   \n",
       "4     0.875274  1.580888   0.781794  0.254817  0.996495  0.570555      6   \n",
       "...        ...       ...        ...       ...       ...       ...    ...   \n",
       "8727 -6.662869  7.868906  -9.190269  3.032317 -5.569743 -0.461770      4   \n",
       "8728 -5.476418  7.553002  -9.695344  6.655576 -7.686864  2.161717      4   \n",
       "8729 -2.410092  6.300669  -7.801015  7.522465 -8.240689  4.455863      4   \n",
       "8730 -1.851495  6.214291  -6.799572  7.248857 -6.847468  4.146056      4   \n",
       "8731 -8.672048  6.474389 -10.223587  3.502012 -5.844539 -0.319190      4   \n",
       "\n",
       "      labels  \n",
       "0         10  \n",
       "1         10  \n",
       "2         10  \n",
       "3          8  \n",
       "4          4  \n",
       "...      ...  \n",
       "8727       3  \n",
       "8728       3  \n",
       "8729       3  \n",
       "8730       3  \n",
       "8731       3  \n",
       "\n",
       "[8732 rows x 43 columns]"
      ]
     },
     "execution_count": 60,
     "metadata": {},
     "output_type": "execute_result"
    }
   ],
   "source": [
    "df_noCorr_"
   ]
  },
  {
   "cell_type": "code",
   "execution_count": 61,
   "id": "1e0947ff",
   "metadata": {},
   "outputs": [
    {
     "data": {
      "text/plain": [
       "7    1000\n",
       "5    1000\n",
       "4    1000\n",
       "3    1000\n",
       "2    1000\n",
       "9    1000\n",
       "0    1000\n",
       "8     929\n",
       "1     429\n",
       "6     374\n",
       "Name: class, dtype: int64"
      ]
     },
     "execution_count": 61,
     "metadata": {},
     "output_type": "execute_result"
    }
   ],
   "source": [
    "# Klasy\n",
    "df['class'].value_counts()"
   ]
  },
  {
   "cell_type": "code",
   "execution_count": 62,
   "id": "cf244b3d",
   "metadata": {},
   "outputs": [
    {
     "data": {
      "text/plain": [
       "9     1551\n",
       "4     1127\n",
       "6      944\n",
       "0      928\n",
       "5      846\n",
       "2      731\n",
       "10     597\n",
       "3      484\n",
       "8      419\n",
       "13     404\n",
       "1      342\n",
       "11     126\n",
       "12     118\n",
       "7      115\n",
       "Name: labels, dtype: int64"
      ]
     },
     "execution_count": 62,
     "metadata": {},
     "output_type": "execute_result"
    }
   ],
   "source": [
    "# Ile danych w każdym klastrze\n",
    "df_noCorr_['labels'].value_counts()"
   ]
  },
  {
   "cell_type": "code",
   "execution_count": 63,
   "id": "dbc67687",
   "metadata": {},
   "outputs": [
    {
     "name": "stdout",
     "output_type": "stream",
     "text": [
      "Cluster0\n",
      "4    422\n",
      "7    343\n",
      "0     52\n",
      "5     50\n",
      "9     19\n",
      "3     13\n",
      "2     12\n",
      "8      7\n",
      "1      6\n",
      "6      4\n",
      "Name: class, dtype: int64\n",
      "Cluster1\n",
      "1    89\n",
      "4    77\n",
      "9    57\n",
      "0    38\n",
      "2    37\n",
      "8    13\n",
      "6    12\n",
      "7     8\n",
      "3     8\n",
      "5     3\n",
      "Name: class, dtype: int64\n",
      "Cluster2\n",
      "0    262\n",
      "5    247\n",
      "8     66\n",
      "7     64\n",
      "9     27\n",
      "3     22\n",
      "2     20\n",
      "4     11\n",
      "1      9\n",
      "6      3\n",
      "Name: class, dtype: int64\n",
      "Cluster3\n",
      "9    119\n",
      "7     96\n",
      "4     61\n",
      "3     61\n",
      "0     54\n",
      "2     49\n",
      "5     31\n",
      "1      8\n",
      "6      4\n",
      "8      1\n",
      "Name: class, dtype: int64\n",
      "Cluster4\n",
      "2    313\n",
      "3    216\n",
      "5    152\n",
      "6    134\n",
      "0     93\n",
      "9     81\n",
      "8     79\n",
      "1     31\n",
      "4     28\n",
      "Name: class, dtype: int64\n",
      "Cluster5\n",
      "8    248\n",
      "5    180\n",
      "0    135\n",
      "3     95\n",
      "9     86\n",
      "2     67\n",
      "6     19\n",
      "1     12\n",
      "4      4\n",
      "Name: class, dtype: int64\n",
      "Cluster6\n",
      "9    285\n",
      "2    151\n",
      "6    111\n",
      "3     93\n",
      "7     78\n",
      "4     74\n",
      "5     54\n",
      "1     50\n",
      "8     35\n",
      "0     13\n",
      "Name: class, dtype: int64\n",
      "Cluster7\n",
      "4    70\n",
      "9    42\n",
      "3     3\n",
      "Name: class, dtype: int64\n",
      "Cluster8\n",
      "0    120\n",
      "7     96\n",
      "4     80\n",
      "1     41\n",
      "9     24\n",
      "3     19\n",
      "2     17\n",
      "5     12\n",
      "6     10\n",
      "Name: class, dtype: int64\n",
      "Cluster9\n",
      "7    315\n",
      "2    249\n",
      "0    233\n",
      "9    221\n",
      "5    204\n",
      "8    111\n",
      "4    108\n",
      "1     51\n",
      "3     33\n",
      "6     26\n",
      "Name: class, dtype: int64\n",
      "Cluster10\n",
      "3    409\n",
      "2     58\n",
      "6     42\n",
      "9     32\n",
      "4     26\n",
      "8     19\n",
      "1     10\n",
      "5      1\n",
      "Name: class, dtype: int64\n",
      "Cluster11\n",
      "5    64\n",
      "4    20\n",
      "2    15\n",
      "8     9\n",
      "6     9\n",
      "3     5\n",
      "1     3\n",
      "9     1\n",
      "Name: class, dtype: int64\n",
      "Cluster12\n",
      "1    118\n",
      "Name: class, dtype: int64\n",
      "Cluster13\n",
      "8    341\n",
      "3     23\n",
      "4     19\n",
      "2     12\n",
      "9      6\n",
      "5      2\n",
      "1      1\n",
      "Name: class, dtype: int64\n"
     ]
    }
   ],
   "source": [
    "# Zawartość poszczególnych klastrów\n",
    "clusters = 14\n",
    "for cluster_no in range(clusters):\n",
    "    print(\"Cluster\" + str(cluster_no))\n",
    "    print(df_noCorr_[df_noCorr_['labels']==cluster_no]['class'].value_counts())"
   ]
  },
  {
   "cell_type": "code",
   "execution_count": 64,
   "id": "5c793513",
   "metadata": {},
   "outputs": [],
   "source": [
    "# Porównanie każdego z klastrów - wypisujemy statystyki"
   ]
  },
  {
   "cell_type": "code",
   "execution_count": 66,
   "id": "88d3e8be",
   "metadata": {},
   "outputs": [
    {
     "name": "stdout",
     "output_type": "stream",
     "text": [
      "Cluster 0\n",
      "           zcrAvg   energyValue       mfcc1       mfcc3       mfcc4  \\\n",
      "count  928.000000    928.000000  928.000000  928.000000  928.000000   \n",
      "mean     0.180263   1569.112738 -138.761132  -36.538548   26.943813   \n",
      "std      0.088333   2167.681535   70.554275   25.352406   17.363933   \n",
      "min      0.023072      1.996392 -369.365692 -106.920792  -24.291462   \n",
      "25%      0.117346    362.556238 -185.611713  -52.993408   15.434089   \n",
      "50%      0.162589    911.867793 -137.616318  -36.305643   28.085168   \n",
      "75%      0.217824   1737.376896  -86.468519  -24.030011   38.284573   \n",
      "max      0.660616  19279.436231  105.959564   77.114479   80.146820   \n",
      "\n",
      "            mfcc5       mfcc6       mfcc7       mfcc8       mfcc9  ...  \\\n",
      "count  928.000000  928.000000  928.000000  928.000000  928.000000  ...   \n",
      "mean   -17.527328   15.648799  -10.902160   12.230056   -8.510262  ...   \n",
      "std     11.727555   10.988045    9.525363    8.071219    7.022543  ...   \n",
      "min    -54.162083  -25.995070  -46.010616  -10.204803  -30.644737  ...   \n",
      "25%    -24.802305    8.369291  -16.783693    6.740232  -12.558367  ...   \n",
      "50%    -16.946057   16.232200   -8.779354   12.318303   -8.489774  ...   \n",
      "75%    -10.680802   22.991574   -4.481358   17.141805   -4.186433  ...   \n",
      "max     18.626991   49.143024   18.280159   36.704502   11.786798  ...   \n",
      "\n",
      "           mfcc33      mfcc34      mfcc35      mfcc36      mfcc37      mfcc38  \\\n",
      "count  928.000000  928.000000  928.000000  928.000000  928.000000  928.000000   \n",
      "mean    -2.492428    1.176859   -2.665006    0.943594   -1.727000   -0.063963   \n",
      "std      3.385726    3.216350    2.982134    3.190950    3.131859    3.354209   \n",
      "min    -14.893617  -15.438725  -13.945590   -8.644658  -11.505287  -10.002890   \n",
      "25%     -4.625242   -0.778709   -4.424755   -1.065978   -3.846290   -1.874387   \n",
      "50%     -2.484454    1.083516   -2.596009    0.754903   -1.892689    0.395031   \n",
      "75%     -0.421452    3.112033   -0.777376    3.081374   -0.008428    1.982415   \n",
      "max      7.540830   10.985221    7.534873   11.383549   10.181023    9.343830   \n",
      "\n",
      "           mfcc39      mfcc40       class  labels  \n",
      "count  928.000000  928.000000  928.000000   928.0  \n",
      "mean    -1.367148    0.774715    5.020474     0.0  \n",
      "std      2.804510    2.465474    2.003398     0.0  \n",
      "min    -10.444221   -8.377643    0.000000     0.0  \n",
      "25%     -3.307436   -0.691958    4.000000     0.0  \n",
      "50%     -1.326533    0.848570    4.000000     0.0  \n",
      "75%      0.446851    2.486379    7.000000     0.0  \n",
      "max      7.772141    9.344103    9.000000     0.0  \n",
      "\n",
      "[8 rows x 43 columns]\n",
      "Cluster 1\n",
      "           zcrAvg   energyValue       mfcc1       mfcc3       mfcc4  \\\n",
      "count  342.000000    342.000000  342.000000  342.000000  342.000000   \n",
      "mean     0.085413   1764.692338 -206.552345  -89.421131   37.089206   \n",
      "std      0.030271   1925.275532   69.912029   35.864571   22.543779   \n",
      "min      0.007146      4.073285 -466.523834 -181.795410  -26.605335   \n",
      "25%      0.060216    238.103967 -256.178696 -108.327242   22.470951   \n",
      "50%      0.081071   1084.902500 -195.569832  -79.299427   34.760519   \n",
      "75%      0.107255   2783.561905 -150.771534  -66.658422   51.971519   \n",
      "max      0.181974  10369.395489  -71.265961   -4.912814   83.254463   \n",
      "\n",
      "            mfcc5       mfcc6       mfcc7       mfcc8       mfcc9  ...  \\\n",
      "count  342.000000  342.000000  342.000000  342.000000  342.000000  ...   \n",
      "mean   -29.536387   14.573153  -17.734740    4.772422    0.006909  ...   \n",
      "std     14.805116   11.713802   10.591353    8.872452    7.405386  ...   \n",
      "min    -80.398354  -23.666143  -47.386852  -26.464193  -18.778725  ...   \n",
      "25%    -38.443422    6.381898  -25.584025   -1.320747   -5.005897  ...   \n",
      "50%    -29.787803   13.851869  -17.340949    4.695402    0.353935  ...   \n",
      "75%    -18.519655   22.400344   -9.993804   11.420537    4.370333  ...   \n",
      "max      2.723463   44.155056   18.257236   32.271481   32.011055  ...   \n",
      "\n",
      "           mfcc33      mfcc34      mfcc35      mfcc36      mfcc37      mfcc38  \\\n",
      "count  342.000000  342.000000  342.000000  342.000000  342.000000  342.000000   \n",
      "mean    -0.856346    0.240360    1.188501   -0.890352   -1.718027   -1.207049   \n",
      "std      3.499652    3.812376    4.952333    4.101100    4.328165    3.795253   \n",
      "min     -8.608797  -17.168886   -9.730434  -14.394817  -13.502828  -12.714283   \n",
      "25%     -3.437498   -2.269971   -1.971741   -2.979608   -4.045971   -4.035312   \n",
      "50%     -0.666611    0.026054    0.133441   -0.835440   -1.373192   -0.443534   \n",
      "75%      1.873105    2.893982    3.313625    0.520981    1.499606    1.538335   \n",
      "max      7.846355   16.743517   17.958836   17.113443   13.749541    8.491997   \n",
      "\n",
      "           mfcc39      mfcc40       class  labels  \n",
      "count  342.000000  342.000000  342.000000   342.0  \n",
      "mean    -0.365472    1.731577    3.669591     1.0  \n",
      "std      3.398849    3.944848    3.103146     0.0  \n",
      "min    -10.050247   -8.262642    0.000000     1.0  \n",
      "25%     -2.505662   -0.740822    1.000000     1.0  \n",
      "50%     -0.290301    1.612423    3.000000     1.0  \n",
      "75%      1.605985    3.815106    6.000000     1.0  \n",
      "max     20.891050   11.947213    9.000000     1.0  \n",
      "\n",
      "[8 rows x 43 columns]\n",
      "Cluster 2\n",
      "           zcrAvg   energyValue       mfcc1       mfcc3       mfcc4  \\\n",
      "count  731.000000    731.000000  731.000000  731.000000  731.000000   \n",
      "mean     0.061746   1742.410110 -246.217348   -0.710588   31.622530   \n",
      "std      0.056578   2335.323144   90.008658   25.325726   17.513787   \n",
      "min      0.003247      2.242685 -498.795593  -60.847141  -23.215874   \n",
      "25%      0.023854    225.128712 -312.676956  -17.334828   18.146817   \n",
      "50%      0.042779    659.042540 -238.880386   -1.211974   32.939381   \n",
      "75%      0.071664   2587.217843 -173.226677   12.188698   45.414303   \n",
      "max      0.346418  12872.001852  -36.504196   88.485619   78.592812   \n",
      "\n",
      "            mfcc5       mfcc6       mfcc7       mfcc8       mfcc9  ...  \\\n",
      "count  731.000000  731.000000  731.000000  731.000000  731.000000  ...   \n",
      "mean    -0.929064   20.830780    3.246632   13.917472    3.779989  ...   \n",
      "std     12.855861   10.127375    9.616335    8.784940    8.836660  ...   \n",
      "min    -33.520710  -19.766457  -23.350380  -15.399560  -16.701166  ...   \n",
      "25%     -9.080557   13.962585   -2.141025   10.010933   -2.996288  ...   \n",
      "50%     -1.702398   20.771009    3.805394   13.908328    2.725714  ...   \n",
      "75%      6.555943   28.163267    9.032052   17.965959    9.191480  ...   \n",
      "max     59.053871   59.199265   33.453571   38.831718   26.921818  ...   \n",
      "\n",
      "           mfcc33      mfcc34      mfcc35      mfcc36      mfcc37      mfcc38  \\\n",
      "count  731.000000  731.000000  731.000000  731.000000  731.000000  731.000000   \n",
      "mean    -0.286204    0.467201   -0.481980    1.651963   -0.736884    0.806098   \n",
      "std      2.977831    2.578285    3.104940    3.710169    3.715210    2.590904   \n",
      "min    -17.776180  -16.112844  -10.332391   -6.393850  -14.346845   -9.603769   \n",
      "25%     -1.793376   -0.814855   -2.208412   -0.861343   -3.026685   -0.623786   \n",
      "50%     -0.074052    0.687065   -0.785440    1.186341   -1.011499    0.984428   \n",
      "75%      1.701253    1.697940    1.066983    3.373339    1.256865    2.821220   \n",
      "max     12.270167    9.842405   15.461542   26.697062   13.507561    6.685233   \n",
      "\n",
      "           mfcc39      mfcc40       class  labels  \n",
      "count  731.000000  731.000000  731.000000   731.0  \n",
      "mean    -0.790929    0.703974    3.599179     2.0  \n",
      "std      2.957165    3.495584    3.057342     0.0  \n",
      "min    -10.713763   -7.850928    0.000000     2.0  \n",
      "25%     -2.187284   -1.325856    0.000000     2.0  \n",
      "50%     -0.735839    0.580465    5.000000     2.0  \n",
      "75%      0.920700    2.167298    5.000000     2.0  \n",
      "max      5.570438   14.105632    9.000000     2.0  \n",
      "\n",
      "[8 rows x 43 columns]\n",
      "Cluster 3\n",
      "           zcrAvg   energyValue       mfcc1       mfcc3       mfcc4  \\\n",
      "count  484.000000    484.000000  484.000000  484.000000  484.000000   \n",
      "mean     0.070891   1298.046500 -243.829056  -32.090899    6.407417   \n",
      "std      0.066839   1525.761973  101.287351   24.991192   27.876884   \n",
      "min      0.000034      0.309767 -554.355225  -99.695572  -66.842361   \n",
      "25%      0.036343    267.013795 -320.346512  -47.119546   -6.740437   \n",
      "50%      0.047285    874.842650 -232.624466  -32.380348   14.589541   \n",
      "75%      0.066314   1637.005069 -163.913540  -15.736656   25.149551   \n",
      "max      0.309604  11179.974868  -36.070614   49.329983   64.163010   \n",
      "\n",
      "            mfcc5       mfcc6       mfcc7       mfcc8       mfcc9  ...  \\\n",
      "count  484.000000  484.000000  484.000000  484.000000  484.000000  ...   \n",
      "mean   -20.789540    1.398803  -18.401065   -8.818775  -12.055321  ...   \n",
      "std     17.749679   15.243211   10.348756   10.278089    9.743699  ...   \n",
      "min    -71.527328  -38.495632  -49.200211  -47.070866  -37.193333  ...   \n",
      "25%    -30.365868   -5.611200  -24.819648  -14.284571  -18.084368  ...   \n",
      "50%    -20.834112    3.168491  -15.979592   -8.162476  -11.845464  ...   \n",
      "75%    -14.493192   11.820455  -12.121622   -2.561416   -7.395950  ...   \n",
      "max     41.147137   31.778015   20.341448   16.848278   19.650297  ...   \n",
      "\n",
      "           mfcc33      mfcc34      mfcc35      mfcc36      mfcc37      mfcc38  \\\n",
      "count  484.000000  484.000000  484.000000  484.000000  484.000000  484.000000   \n",
      "mean    -3.108331   -1.666922   -3.181248    0.159934   -1.939163   -0.572982   \n",
      "std      3.171230    3.445750    2.800234    3.447249    3.742871    3.459859   \n",
      "min    -12.641744  -15.915586  -13.508667  -10.419921  -13.958997  -18.659050   \n",
      "25%     -5.344718   -3.509860   -4.915582   -2.468590   -3.890917   -2.650374   \n",
      "50%     -3.247325   -1.755711   -3.140971    0.480759   -1.830277   -0.780171   \n",
      "75%     -0.894984    0.076795   -1.447358    2.444517    0.246723    1.579089   \n",
      "max     12.249705   10.251691    6.972961   12.470725   10.503141   13.720850   \n",
      "\n",
      "           mfcc39      mfcc40       class  labels  \n",
      "count  484.000000  484.000000  484.000000   484.0  \n",
      "mean    -1.537822   -0.977528    5.088843     3.0  \n",
      "std      3.379188    2.517239    3.059513     0.0  \n",
      "min    -20.912649   -8.088374    0.000000     3.0  \n",
      "25%     -3.423108   -2.579568    3.000000     3.0  \n",
      "50%     -1.696326   -1.301146    5.000000     3.0  \n",
      "75%      0.549517    0.256466    7.000000     3.0  \n",
      "max      8.890034    8.883526    9.000000     3.0  \n",
      "\n",
      "[8 rows x 43 columns]\n",
      "Cluster 4\n",
      "            zcrAvg   energyValue        mfcc1        mfcc3        mfcc4  \\\n",
      "count  1127.000000   1127.000000  1127.000000  1127.000000  1127.000000   \n",
      "mean      0.021151    950.112229  -387.432541   -10.958945    13.078654   \n",
      "std       0.016816   2309.775847    99.038551    29.885392    16.600423   \n",
      "min       0.000000      0.043698  -801.419861  -130.461792   -53.872158   \n",
      "25%       0.008585     36.787191  -451.288452   -29.425574     3.079129   \n",
      "50%       0.018439    187.668563  -381.058777    -7.951049    13.926983   \n",
      "75%       0.028235    635.659177  -320.946487     7.705510    25.475388   \n",
      "max       0.166133  19144.441952  -110.904060    68.595444    54.867538   \n",
      "\n",
      "             mfcc5        mfcc6        mfcc7        mfcc8        mfcc9  ...  \\\n",
      "count  1127.000000  1127.000000  1127.000000  1127.000000  1127.000000  ...   \n",
      "mean      3.474415     8.540890     4.240584     8.680776     5.040490  ...   \n",
      "std      14.227934    10.772891     9.095947     7.777425     7.810821  ...   \n",
      "min     -41.745190   -52.050076   -47.860981   -17.797234   -22.688330  ...   \n",
      "25%      -5.806652     2.446715    -1.262734     3.800731     0.772606  ...   \n",
      "50%       2.913493     8.870243     3.585236     8.648940     5.286941  ...   \n",
      "75%      11.171891    15.187882     9.425367    12.538890     8.757039  ...   \n",
      "max      64.857811    39.070198    35.100803    40.180351    41.391495  ...   \n",
      "\n",
      "            mfcc33       mfcc34       mfcc35       mfcc36       mfcc37  \\\n",
      "count  1127.000000  1127.000000  1127.000000  1127.000000  1127.000000   \n",
      "mean      0.886764     1.356115     1.024947     1.200868     0.240968   \n",
      "std       2.685370     2.944559     3.019970     2.645792     2.866778   \n",
      "min     -10.642179   -12.601132    -8.393908   -14.574615   -16.227604   \n",
      "25%      -0.646280    -0.139577    -0.646703    -0.132811    -1.227060   \n",
      "50%       0.883848     1.459641     1.066351     1.292747     0.349229   \n",
      "75%       2.376974     2.962781     2.419415     2.501967     1.762556   \n",
      "max      10.954266    18.749973    27.250448    19.058290    13.660397   \n",
      "\n",
      "            mfcc38       mfcc39       mfcc40        class  labels  \n",
      "count  1127.000000  1127.000000  1127.000000  1127.000000  1127.0  \n",
      "mean      0.931529     0.855381     1.035357     3.852706     4.0  \n",
      "std       2.712138     2.611807     2.105191     2.526511     0.0  \n",
      "min     -20.819008   -19.332253    -8.141132     0.000000     4.0  \n",
      "25%      -0.238518    -0.593436    -0.201710     2.000000     4.0  \n",
      "50%       1.024927     0.628880     1.052222     3.000000     4.0  \n",
      "75%       2.173600     2.045419     2.242547     6.000000     4.0  \n",
      "max      17.703169    17.999537    16.702560     9.000000     4.0  \n",
      "\n",
      "[8 rows x 43 columns]\n",
      "Cluster 5\n"
     ]
    },
    {
     "name": "stdout",
     "output_type": "stream",
     "text": [
      "           zcrAvg   energyValue       mfcc1       mfcc3       mfcc4  \\\n",
      "count  846.000000    846.000000  846.000000  846.000000  846.000000   \n",
      "mean     0.016578    495.360035 -442.409621    4.897955   16.054241   \n",
      "std      0.014274   1399.431820  110.236348   24.276746   22.556130   \n",
      "min      0.000000      0.005886 -780.167053  -61.941410  -55.126568   \n",
      "25%      0.006610     12.493940 -488.334648  -12.812485    1.809101   \n",
      "50%      0.013964     62.617222 -423.190186    6.988957   16.955953   \n",
      "75%      0.021776    363.305522 -365.684441   21.947710   33.531342   \n",
      "max      0.110677  10203.843517 -221.849167   88.252678   69.753769   \n",
      "\n",
      "            mfcc5       mfcc6       mfcc7       mfcc8       mfcc9  ...  \\\n",
      "count  846.000000  846.000000  846.000000  846.000000  846.000000  ...   \n",
      "mean     6.393210   10.593052    5.540677   11.458370    6.604345  ...   \n",
      "std     13.613274   11.751219   10.610849    8.285535    7.342851  ...   \n",
      "min    -33.264565  -39.378269  -38.973770  -21.370762  -16.424067  ...   \n",
      "25%     -2.198677    3.417303   -0.267640    5.868276    1.953074  ...   \n",
      "50%      5.423213   10.144851    4.874439   11.496583    6.757937  ...   \n",
      "75%     14.623919   18.581481    9.982104   16.391606   10.774796  ...   \n",
      "max     70.666481   45.134495   39.408382   33.522297   46.503731  ...   \n",
      "\n",
      "           mfcc33      mfcc34      mfcc35      mfcc36      mfcc37      mfcc38  \\\n",
      "count  846.000000  846.000000  846.000000  846.000000  846.000000  846.000000   \n",
      "mean    -2.395833   -1.323550   -2.041262   -0.517573   -1.366758   -0.392451   \n",
      "std      2.127890    2.652948    2.195050    2.209226    2.610969    2.674517   \n",
      "min    -14.822286  -28.131802  -16.739136  -12.374261  -12.017973  -14.451379   \n",
      "25%     -3.690284   -2.825482   -3.178213   -1.742457   -2.958588   -2.060891   \n",
      "50%     -2.494454   -1.134693   -1.927760   -0.559289   -1.635718   -0.571673   \n",
      "75%     -1.269855    0.429366   -0.836943    0.686131    0.083611    1.127300   \n",
      "max      7.003409    7.156768    6.227688   13.639348   13.139072   14.264205   \n",
      "\n",
      "           mfcc39      mfcc40       class  labels  \n",
      "count  846.000000  846.000000  846.000000   846.0  \n",
      "mean    -1.579162   -0.544091    4.986998     5.0  \n",
      "std      2.817024    1.957172    3.111509     0.0  \n",
      "min    -25.249241   -7.659067    0.000000     5.0  \n",
      "25%     -3.164748   -1.804719    2.000000     5.0  \n",
      "50%     -1.672346   -0.508933    5.000000     5.0  \n",
      "75%      0.099423    0.522729    8.000000     5.0  \n",
      "max     13.253187    8.165797    9.000000     5.0  \n",
      "\n",
      "[8 rows x 43 columns]\n",
      "Cluster 6\n",
      "           zcrAvg   energyValue       mfcc1       mfcc3       mfcc4  \\\n",
      "count  944.000000    944.000000  944.000000  944.000000  944.000000   \n",
      "mean     0.045525   1805.141481 -265.362460  -39.159900   19.739131   \n",
      "std      0.022538   3141.788423   89.442852   26.692211   20.750163   \n",
      "min      0.000011      0.471715 -635.418518 -124.876686  -77.454193   \n",
      "25%      0.031099    155.570276 -324.064919  -59.064872    8.758956   \n",
      "50%      0.041908    673.177366 -264.468262  -41.223381   20.301713   \n",
      "75%      0.054265   2212.780953 -207.857071  -18.203417   33.924029   \n",
      "max      0.181743  37649.490010  -69.559349   35.297813   86.178932   \n",
      "\n",
      "            mfcc5       mfcc6       mfcc7       mfcc8       mfcc9  ...  \\\n",
      "count  944.000000  944.000000  944.000000  944.000000  944.000000  ...   \n",
      "mean    -4.935510   -1.042433   -5.204331    1.911673   -3.490203  ...   \n",
      "std     16.230451   12.574991   12.143907    7.967106    9.657167  ...   \n",
      "min    -44.207371  -39.311768  -48.751507  -21.449980  -28.415863  ...   \n",
      "25%    -16.379617   -8.601737  -11.773569   -3.396149   -8.794961  ...   \n",
      "50%     -8.343334    0.459457   -5.229034    1.450932   -4.160112  ...   \n",
      "75%      3.403428    7.109295    2.460491    6.049502    0.922777  ...   \n",
      "max     57.436142   32.632473   36.890804   33.850914   37.282730  ...   \n",
      "\n",
      "           mfcc33      mfcc34      mfcc35      mfcc36      mfcc37      mfcc38  \\\n",
      "count  944.000000  944.000000  944.000000  944.000000  944.000000  944.000000   \n",
      "mean    -1.501939   -1.326562   -1.340327   -0.994653   -1.288963   -0.298155   \n",
      "std      2.840921    3.657499    2.926331    2.911404    3.270809    3.187995   \n",
      "min    -11.941748  -20.400936  -17.016214  -11.908235  -13.047369  -17.104280   \n",
      "25%     -2.871518   -3.250767   -2.780756   -2.514495   -3.113486   -1.869034   \n",
      "50%     -1.346061   -0.851673   -1.167854   -0.650043   -1.408421   -0.310818   \n",
      "75%     -0.109438    0.854002    0.083953    0.601124    0.020121    1.038397   \n",
      "max     15.144947   14.079812   12.763315   15.312135   21.818092   16.773314   \n",
      "\n",
      "           mfcc39      mfcc40       class  labels  \n",
      "count  944.000000  944.000000  944.000000   944.0  \n",
      "mean    -1.106422   -0.599335    5.565678     6.0  \n",
      "std      2.662509    2.476019    2.899140     0.0  \n",
      "min    -15.503943  -13.400396    0.000000     6.0  \n",
      "25%     -2.636642   -1.924309    3.000000     6.0  \n",
      "50%     -1.131788   -0.758425    6.000000     6.0  \n",
      "75%      0.206917    0.650943    9.000000     6.0  \n",
      "max     12.014433   13.956174    9.000000     6.0  \n",
      "\n",
      "[8 rows x 43 columns]\n",
      "Cluster 7\n",
      "           zcrAvg  energyValue       mfcc1       mfcc3       mfcc4  \\\n",
      "count  115.000000   115.000000  115.000000  115.000000  115.000000   \n",
      "mean     0.105842  1580.397043 -222.125179 -104.919542   45.722045   \n",
      "std      0.038042  1628.936151   67.142989   43.341837   26.886941   \n",
      "min      0.039599    29.367883 -373.087494 -188.675491  -12.576346   \n",
      "25%      0.074461   134.553212 -273.493484 -122.088528   33.014519   \n",
      "50%      0.096670   952.288505 -213.936798 -108.388794   40.814747   \n",
      "75%      0.137370  2704.598920 -158.117111  -91.281799   53.703407   \n",
      "max      0.207156  9437.956019  -86.016014   12.346057  101.662659   \n",
      "\n",
      "            mfcc5       mfcc6       mfcc7       mfcc8       mfcc9  ...  \\\n",
      "count  115.000000  115.000000  115.000000  115.000000  115.000000  ...   \n",
      "mean   -36.424004   11.573766   -1.298612  -20.855097   19.430462  ...   \n",
      "std     11.742385   13.039580   11.166488    7.101430    9.258088  ...   \n",
      "min    -59.834373  -25.735058  -38.911522  -31.444622   -3.944729  ...   \n",
      "25%    -44.596048    4.121033   -4.809005  -27.433772   13.578825  ...   \n",
      "50%    -38.200459   13.719381   -0.516747  -20.266928   17.646717  ...   \n",
      "75%    -27.323130   22.276254    6.461841  -15.884284   25.068296  ...   \n",
      "max    -10.369120   28.735662   11.622701   -1.712084   48.319134  ...   \n",
      "\n",
      "           mfcc33      mfcc34      mfcc35      mfcc36      mfcc37      mfcc38  \\\n",
      "count  115.000000  115.000000  115.000000  115.000000  115.000000  115.000000   \n",
      "mean     3.435198   -2.368480    0.616940    1.302472   -1.821690    3.847068   \n",
      "std      3.803380    4.923499    3.509690    3.847745    3.965748    3.214286   \n",
      "min     -6.982631  -20.259150   -7.827113   -8.264288   -8.112814   -5.258868   \n",
      "25%      1.815702   -3.688017   -1.302774   -1.191061   -4.538987    2.558202   \n",
      "50%      4.062795   -1.904740    0.492979    2.429357   -2.177664    4.568360   \n",
      "75%      5.915801    0.419281    3.023394    4.110994   -0.045958    5.629484   \n",
      "max     11.603429    7.491975   12.264858    7.609388   10.589829    9.549716   \n",
      "\n",
      "           mfcc39      mfcc40       class  labels  \n",
      "count  115.000000  115.000000  115.000000   115.0  \n",
      "mean    -2.290166    1.654717    5.800000     7.0  \n",
      "std      3.897156    2.625541    2.443035     0.0  \n",
      "min    -11.232496   -5.912546    3.000000     7.0  \n",
      "25%     -4.534554    0.093575    4.000000     7.0  \n",
      "50%     -2.483397    1.747284    4.000000     7.0  \n",
      "75%     -0.418531    3.407147    9.000000     7.0  \n",
      "max     10.242191    7.049679    9.000000     7.0  \n",
      "\n",
      "[8 rows x 43 columns]\n",
      "Cluster 8\n",
      "           zcrAvg  energyValue       mfcc1       mfcc3       mfcc4  \\\n",
      "count  419.000000   419.000000  419.000000  419.000000  419.000000   \n",
      "mean     0.089169   817.107850 -231.999905  -48.010281   49.947074   \n",
      "std      0.062509  1384.562918   88.739810   29.395553   23.121363   \n",
      "min      0.004207     0.498455 -475.238983 -120.921532  -14.213157   \n",
      "25%      0.043430   106.579630 -298.527847  -70.680141   30.936092   \n",
      "50%      0.065775   381.653056 -224.285461  -46.411453   53.279884   \n",
      "75%      0.117211   928.259529 -150.904137  -26.466613   68.648926   \n",
      "max      0.373634  9465.701450  -71.161530   29.011799   94.947487   \n",
      "\n",
      "            mfcc5       mfcc6       mfcc7       mfcc8       mfcc9  ...  \\\n",
      "count  419.000000  419.000000  419.000000  419.000000  419.000000  ...   \n",
      "mean   -25.131989   30.811834  -18.042277   21.901386  -13.086858  ...   \n",
      "std     14.290280   12.226421   11.334678    9.807416    8.119921  ...   \n",
      "min    -63.442310   -9.040202  -55.304066   -2.951435  -31.022228  ...   \n",
      "25%    -36.458469   23.102899  -24.526776   17.322235  -19.421412  ...   \n",
      "50%    -22.564787   30.992599  -16.670864   22.786785  -12.426551  ...   \n",
      "75%    -14.515724   40.256659  -10.353368   26.865487   -7.586748  ...   \n",
      "max     23.413397   73.479202    8.791800   50.838940   15.987237  ...   \n",
      "\n",
      "           mfcc33      mfcc34      mfcc35      mfcc36      mfcc37      mfcc38  \\\n",
      "count  419.000000  419.000000  419.000000  419.000000  419.000000  419.000000   \n",
      "mean    -3.668038    1.630111   -2.770526    1.024149   -2.137278    0.863297   \n",
      "std      2.795036    2.581153    3.223979    2.923979    3.580308    2.908616   \n",
      "min    -15.103373   -6.424212  -12.574806   -6.292986  -13.744602  -14.427269   \n",
      "25%     -5.439704    0.208653   -4.669155   -0.963826   -4.559282   -0.899772   \n",
      "50%     -3.690378    1.551482   -3.346009    0.895217   -2.547010    0.762459   \n",
      "75%     -1.579048    3.096013   -1.084529    2.742083    0.095400    2.387120   \n",
      "max      3.034416    9.134775   13.954428   13.312604   23.923918    9.134767   \n",
      "\n",
      "           mfcc39      mfcc40       class  labels  \n",
      "count  419.000000  419.000000  419.000000   419.0  \n",
      "mean    -1.567225    0.266320    3.484487     8.0  \n",
      "std      3.006081    2.419868    3.007427     0.0  \n",
      "min    -15.238376   -8.343927    0.000000     8.0  \n",
      "25%     -3.627089   -1.253703    0.000000     8.0  \n",
      "50%     -2.019599    0.303618    4.000000     8.0  \n",
      "75%      0.162522    1.730666    7.000000     8.0  \n",
      "max     11.796642   12.381794    9.000000     8.0  \n",
      "\n",
      "[8 rows x 43 columns]\n",
      "Cluster 9\n"
     ]
    },
    {
     "name": "stdout",
     "output_type": "stream",
     "text": [
      "            zcrAvg   energyValue        mfcc1        mfcc3        mfcc4  \\\n",
      "count  1551.000000   1551.000000  1551.000000  1551.000000  1551.000000   \n",
      "mean      0.050780    944.539215  -240.956532   -34.694673    32.999005   \n",
      "std       0.022985   1292.350193    73.080300    21.947753    15.169568   \n",
      "min       0.002205      1.137853  -476.688354  -118.822212   -16.459522   \n",
      "25%       0.036313    132.582440  -295.842651   -47.259926    21.567207   \n",
      "50%       0.046232    497.747963  -231.703812   -32.960060    31.654951   \n",
      "75%       0.061035   1229.721383  -181.039787   -20.829957    44.358831   \n",
      "max       0.206476  10780.077136   -52.987789    24.797804    86.547729   \n",
      "\n",
      "             mfcc5        mfcc6        mfcc7        mfcc8        mfcc9  ...  \\\n",
      "count  1551.000000  1551.000000  1551.000000  1551.000000  1551.000000  ...   \n",
      "mean    -11.867803    16.328462    -3.030485     9.976583    -0.447787  ...   \n",
      "std      10.973505    10.148746     8.753365     7.620814     7.178585  ...   \n",
      "min     -60.104740   -19.070333   -29.032234   -17.177279   -25.749117  ...   \n",
      "25%     -18.827444     9.365876    -8.823832     4.959660    -5.031590  ...   \n",
      "50%     -11.863495    16.567547    -2.775281     9.974911    -0.406140  ...   \n",
      "75%      -4.271096    23.709909     2.931738    14.040596     4.445138  ...   \n",
      "max      24.665688    48.163898    30.397625    39.450832    43.341919  ...   \n",
      "\n",
      "            mfcc33       mfcc34       mfcc35       mfcc36       mfcc37  \\\n",
      "count  1551.000000  1551.000000  1551.000000  1551.000000  1551.000000   \n",
      "mean     -0.577574     0.059892    -0.749403     0.368097    -0.785032   \n",
      "std       2.562544     2.838000     2.679380     2.744683     2.942108   \n",
      "min     -12.456938   -16.624533   -10.107182   -10.386456   -23.608995   \n",
      "25%      -2.239424    -1.463835    -2.299148    -1.104077    -2.473736   \n",
      "50%      -0.559601     0.192994    -0.850068     0.360731    -0.737193   \n",
      "75%       0.943369     1.481907     0.758007     1.809198     0.838274   \n",
      "max      12.658509    11.715849    23.277905    15.084318    13.829177   \n",
      "\n",
      "            mfcc38       mfcc39       mfcc40        class  labels  \n",
      "count  1551.000000  1551.000000  1551.000000  1551.000000  1551.0  \n",
      "mean      0.371687    -0.823035     0.014690     4.731141     9.0  \n",
      "std       2.628447     2.520273     2.246835     3.093269     0.0  \n",
      "min     -10.311764    -9.609591    -9.890560     0.000000     9.0  \n",
      "25%      -0.946123    -2.348010    -1.285273     2.000000     9.0  \n",
      "50%       0.479321    -0.761554    -0.020559     5.000000     9.0  \n",
      "75%       1.836017     0.682113     1.232189     7.000000     9.0  \n",
      "max      11.254267    13.045623     9.066387     9.000000     9.0  \n",
      "\n",
      "[8 rows x 43 columns]\n",
      "Cluster 10\n",
      "           zcrAvg   energyValue       mfcc1       mfcc3       mfcc4  \\\n",
      "count  597.000000    597.000000  597.000000  597.000000  597.000000   \n",
      "mean     0.028404   1504.293128 -378.788425  -15.394144  -14.914573   \n",
      "std      0.019688   2914.388356  102.604438   33.991700   20.670531   \n",
      "min      0.000000      0.127266 -711.689941 -153.411621  -85.532066   \n",
      "25%      0.014552    110.910722 -446.239410  -30.804447  -25.402571   \n",
      "50%      0.025476    433.301374 -376.117157  -10.523251  -11.688050   \n",
      "75%      0.038083   1352.632346 -314.508728    7.344506   -0.512622   \n",
      "max      0.217809  20161.911511  -46.217274   69.320038   36.137730   \n",
      "\n",
      "            mfcc5       mfcc6       mfcc7       mfcc8       mfcc9  ...  \\\n",
      "count  597.000000  597.000000  597.000000  597.000000  597.000000  ...   \n",
      "mean   -16.392927   -7.605677   -9.498903   -7.774367   -7.441307  ...   \n",
      "std     16.472011   12.587547   10.693938    9.852892    8.585949  ...   \n",
      "min    -74.664185  -57.524769  -46.633865  -44.266052  -42.139111  ...   \n",
      "25%    -25.167601  -15.067190  -16.247173  -12.934310  -12.162747  ...   \n",
      "50%    -15.292762   -5.998400   -8.480400   -7.498300   -6.153530  ...   \n",
      "75%     -6.804635    0.731094   -1.664511   -1.881118   -1.679401  ...   \n",
      "max     50.532166   24.078482   18.770601   26.155037   25.536963  ...   \n",
      "\n",
      "           mfcc33      mfcc34      mfcc35      mfcc36      mfcc37      mfcc38  \\\n",
      "count  597.000000  597.000000  597.000000  597.000000  597.000000  597.000000   \n",
      "mean    -0.198895    0.171878    0.222648    0.563032    0.379974    0.288390   \n",
      "std      2.763562    2.985303    3.172195    3.154060    3.152425    2.916650   \n",
      "min     -8.851197  -13.098735  -11.721011  -10.557020  -10.947313  -20.368992   \n",
      "25%     -1.727287   -1.482330   -1.474020   -1.260499   -1.427797   -1.341958   \n",
      "50%     -0.163948    0.214274    0.128709    0.321646    0.085065    0.251708   \n",
      "75%      1.198969    1.819128    1.608392    2.085015    1.858190    1.848322   \n",
      "max     15.436618   19.083603   28.470570   17.904320   21.015444   11.049129   \n",
      "\n",
      "           mfcc39      mfcc40       class  labels  \n",
      "count  597.000000  597.000000  597.000000   597.0  \n",
      "mean    -0.179939    0.340379    3.608040    10.0  \n",
      "std      3.182474    2.454569    1.791236     0.0  \n",
      "min    -18.497643  -15.939282    1.000000    10.0  \n",
      "25%     -1.487155   -1.015800    3.000000    10.0  \n",
      "50%      0.023728    0.233865    3.000000    10.0  \n",
      "75%      1.499555    1.519272    3.000000    10.0  \n",
      "max     10.635732   12.274914    9.000000    10.0  \n",
      "\n",
      "[8 rows x 43 columns]\n",
      "Cluster 11\n",
      "           zcrAvg   energyValue       mfcc1       mfcc3       mfcc4  \\\n",
      "count  126.000000    126.000000  126.000000  126.000000  126.000000   \n",
      "mean     0.067588  18418.282795 -117.677398  -81.947963   29.849224   \n",
      "std      0.026079  15591.096589   91.453002   42.354069   27.890363   \n",
      "min      0.010112    145.027030 -280.522369 -157.977020  -22.394325   \n",
      "25%      0.053326   2682.778964 -209.833519 -124.501585    2.380521   \n",
      "50%      0.060240  22977.299903  -87.553436  -66.043289   37.176531   \n",
      "75%      0.083375  31216.554848  -28.866932  -50.078908   55.313183   \n",
      "max      0.187606  59875.514282  -12.741033   24.599920   78.067772   \n",
      "\n",
      "            mfcc5       mfcc6       mfcc7       mfcc8       mfcc9  ...  \\\n",
      "count  126.000000  126.000000  126.000000  126.000000  126.000000  ...   \n",
      "mean     3.027601  -20.371793   18.388705  -16.637413   -9.014241  ...   \n",
      "std     10.856644   10.344428   10.328979    8.693473    7.830674  ...   \n",
      "min    -45.894646  -65.555069  -20.731541  -44.974888  -23.744543  ...   \n",
      "25%     -2.546888  -28.241676   14.313495  -22.204555  -14.886871  ...   \n",
      "50%      2.686627  -17.289618   18.073725  -18.648875  -13.233600  ...   \n",
      "75%     10.426688  -12.417274   23.534539  -12.656998   -3.009508  ...   \n",
      "max     25.451880    7.789354   59.192120    5.873525   10.129325  ...   \n",
      "\n",
      "           mfcc33      mfcc34      mfcc35      mfcc36      mfcc37      mfcc38  \\\n",
      "count  126.000000  126.000000  126.000000  126.000000  126.000000  126.000000   \n",
      "mean    -1.252191   -0.785104   -2.095051    0.280514   -3.051762   -2.151351   \n",
      "std      1.803346    1.970077    2.596701    1.469593    1.977387    2.066035   \n",
      "min     -4.331728   -3.955095  -11.486912   -4.179834  -12.196259   -7.838428   \n",
      "25%     -2.478067   -1.933670   -2.616503   -0.885514   -4.102055   -3.519067   \n",
      "50%     -1.301126   -1.235995   -1.535488    0.571549   -3.512371   -2.440330   \n",
      "75%     -0.350056    0.222756   -0.918175    1.179219   -2.248476   -1.058074   \n",
      "max      8.041533   12.033852    4.102243    5.485137    1.918201    3.936964   \n",
      "\n",
      "           mfcc39      mfcc40       class  labels  \n",
      "count  126.000000  126.000000  126.000000   126.0  \n",
      "mean    -0.259007   -1.806642    4.626984    11.0  \n",
      "std      2.178484    1.393097    1.578527     0.0  \n",
      "min     -5.781982   -6.603504    1.000000    11.0  \n",
      "25%     -1.668716   -2.281219    4.000000    11.0  \n",
      "50%     -0.499632   -1.818727    5.000000    11.0  \n",
      "75%      0.778900   -1.193285    5.000000    11.0  \n",
      "max      8.526270    3.375749    9.000000    11.0  \n",
      "\n",
      "[8 rows x 43 columns]\n",
      "Cluster 12\n",
      "           zcrAvg   energyValue       mfcc1       mfcc3       mfcc4  \\\n",
      "count  118.000000    118.000000  118.000000  118.000000  118.000000   \n",
      "mean     0.062049   2456.763563 -239.645611  -52.366479   13.749024   \n",
      "std      0.023676   3374.228246   80.226122   22.290970   17.649417   \n",
      "min      0.026462     14.335239 -517.808289 -118.455482  -17.439859   \n",
      "25%      0.043869    223.223689 -275.690819  -65.358683    0.470793   \n",
      "50%      0.058408    816.572798 -221.854500  -55.681171   10.503890   \n",
      "75%      0.069141   3926.176860 -192.648724  -32.205242   26.744852   \n",
      "max      0.145996  23040.818272  -84.951477  -11.905579   58.867664   \n",
      "\n",
      "            mfcc5       mfcc6       mfcc7       mfcc8       mfcc9  ...  \\\n",
      "count  118.000000  118.000000  118.000000  118.000000  118.000000  ...   \n",
      "mean   -12.927594    9.559716  -11.646747    3.768368    2.774098  ...   \n",
      "std     12.097971   14.585015   13.034634   11.703526   10.277890  ...   \n",
      "min    -52.781666  -37.755142  -54.465179  -28.216162  -27.156464  ...   \n",
      "25%    -19.383680    2.013165  -20.323382   -4.902787   -4.356621  ...   \n",
      "50%    -12.137299   11.671929  -10.244746    5.525621    1.010167  ...   \n",
      "75%     -5.393655   17.983449   -2.407523   11.612988    8.520186  ...   \n",
      "max     21.846746   44.535973   11.351005   28.538582   26.528526  ...   \n",
      "\n",
      "           mfcc33      mfcc34      mfcc35      mfcc36      mfcc37      mfcc38  \\\n",
      "count  118.000000  118.000000  118.000000  118.000000  118.000000  118.000000   \n",
      "mean     2.867049   14.165081    8.783545   -6.479540  -19.164099   -7.784853   \n",
      "std      4.687447    7.052587    8.149395    6.739913   10.062553   11.282890   \n",
      "min    -11.152556   -3.061880  -12.661112  -22.105539  -39.992271  -30.107006   \n",
      "25%     -0.563357   10.639353    2.241427  -10.954756  -25.492643  -17.666627   \n",
      "50%      2.985320   14.601054   10.090677   -6.190642  -19.016512   -8.460347   \n",
      "75%      5.776346   19.230041   13.855122   -1.730550  -13.672755    0.523287   \n",
      "max     12.568354   28.747038   27.108482   13.828649    6.040825   24.706289   \n",
      "\n",
      "           mfcc39      mfcc40  class  labels  \n",
      "count  118.000000  118.000000  118.0   118.0  \n",
      "mean    11.211933   16.657110    1.0    12.0  \n",
      "std      7.382490    7.584869    0.0     0.0  \n",
      "min     -4.739840    2.782916    1.0    12.0  \n",
      "25%      7.185614   11.231723    1.0    12.0  \n",
      "50%     11.178955   15.478970    1.0    12.0  \n",
      "75%     14.855896   23.134896    1.0    12.0  \n",
      "max     28.298498   33.339569    1.0    12.0  \n",
      "\n",
      "[8 rows x 43 columns]\n",
      "Cluster 13\n"
     ]
    },
    {
     "name": "stdout",
     "output_type": "stream",
     "text": [
      "           zcrAvg   energyValue       mfcc1       mfcc3       mfcc4  \\\n",
      "count  404.000000    404.000000  404.000000  404.000000  404.000000   \n",
      "mean     0.054165   3032.267075 -285.486473  -63.614801  -15.701525   \n",
      "std      0.013684   3287.778625   80.613644   34.492752   18.269265   \n",
      "min      0.007266      4.149931 -576.476746 -158.757446  -87.549446   \n",
      "25%      0.046672    355.391198 -338.111206  -82.438559  -26.963875   \n",
      "50%      0.054622   1419.048945 -283.376785  -55.610668  -14.533987   \n",
      "75%      0.060807   6049.200471 -234.137676  -35.713801   -3.865947   \n",
      "max      0.218813  18626.021532 -123.044746    0.884490   42.470070   \n",
      "\n",
      "            mfcc5       mfcc6       mfcc7       mfcc8       mfcc9  ...  \\\n",
      "count  404.000000  404.000000  404.000000  404.000000  404.000000  ...   \n",
      "mean   -26.878378   -3.532249    5.480792   16.449605   13.055004  ...   \n",
      "std     19.313726   13.212625   11.307574   10.346784    9.796449  ...   \n",
      "min    -86.471062  -39.981419  -50.177174   -8.370777  -16.903337  ...   \n",
      "25%    -39.433555   -8.908093   -0.915379    8.075788    7.048307  ...   \n",
      "50%    -22.229899   -5.007671    6.833463   16.585921   13.083125  ...   \n",
      "75%    -13.345192    3.131688   13.295981   24.578158   18.586101  ...   \n",
      "max     12.369909   36.827034   51.706097   50.351795   49.216869  ...   \n",
      "\n",
      "           mfcc33      mfcc34      mfcc35      mfcc36      mfcc37      mfcc38  \\\n",
      "count  404.000000  404.000000  404.000000  404.000000  404.000000  404.000000   \n",
      "mean    -0.786249   -1.209724   -1.660184   -0.368227   -1.621817   -0.630419   \n",
      "std      2.865002    3.411805    3.061453    2.447873    3.621786    4.112729   \n",
      "min    -19.321190  -19.600609  -10.554045   -8.613138  -13.133919   -8.827178   \n",
      "25%     -2.114710   -3.290790   -3.455373   -1.627950   -4.664190   -3.972005   \n",
      "50%     -0.829133   -0.980673   -1.925891   -0.604916   -1.470886   -0.566000   \n",
      "75%      0.744088    0.413532    0.329460    0.914901    0.534202    2.381027   \n",
      "max      8.313524   10.816105   13.324910    8.086385   17.941690   12.077760   \n",
      "\n",
      "           mfcc39      mfcc40       class  labels  \n",
      "count  404.000000  404.000000  404.000000   404.0  \n",
      "mean    -1.014080   -0.785494    7.331683    13.0  \n",
      "std      3.674206    2.670850    1.728146     0.0  \n",
      "min    -22.498495  -10.024659    1.000000    13.0  \n",
      "25%     -2.934908   -2.329747    8.000000    13.0  \n",
      "50%     -0.735571   -0.830114    8.000000    13.0  \n",
      "75%      0.708557    0.486486    8.000000    13.0  \n",
      "max     11.456367   11.962095    9.000000    13.0  \n",
      "\n",
      "[8 rows x 43 columns]\n"
     ]
    }
   ],
   "source": [
    "cluster_desc = []\n",
    "for cluster_no in range(clusters):\n",
    "    print(\"Cluster \"+str(cluster_no))\n",
    "    desc = df_noCorr_[df_noCorr_['labels']==cluster_no].describe()\n",
    "    cluster_desc.append(desc)\n",
    "    print(desc)"
   ]
  },
  {
   "cell_type": "code",
   "execution_count": 72,
   "id": "330a9038",
   "metadata": {},
   "outputs": [
    {
     "data": {
      "image/png": "[encoded data removed]",
      "text/plain": [
       "<Figure size 432x288 with 1 Axes>"
      ]
     },
     "metadata": {
      "needs_background": "light"
     },
     "output_type": "display_data"
    },
    {
     "data": {
      "image/png": "[encoded data removed]",
      "text/plain": [
       "<Figure size 432x288 with 1 Axes>"
      ]
     },
     "metadata": {
      "needs_background": "light"
     },
     "output_type": "display_data"
    },
    {
     "data": {
      "image/png": "[encoded data removed]",
      "text/plain": [
       "<Figure size 432x288 with 1 Axes>"
      ]
     },
     "metadata": {
      "needs_background": "light"
     },
     "output_type": "display_data"
    },
    {
     "data": {
      "image/png": "[encoded data removed]",
      "text/plain": [
       "<Figure size 432x288 with 1 Axes>"
      ]
     },
     "metadata": {
      "needs_background": "light"
     },
     "output_type": "display_data"
    },
    {
     "data": {
      "image/png": "[encoded data removed]",
      "text/plain": [
       "<Figure size 432x288 with 1 Axes>"
      ]
     },
     "metadata": {
      "needs_background": "light"
     },
     "output_type": "display_data"
    },
    {
     "data": {
      "image/png": "[encoded data removed]",
      "text/plain": [
       "<Figure size 432x288 with 1 Axes>"
      ]
     },
     "metadata": {
      "needs_background": "light"
     },
     "output_type": "display_data"
    },
    {
     "data": {
      "image/png": "[encoded data removed]",
      "text/plain": [
       "<Figure size 432x288 with 1 Axes>"
      ]
     },
     "metadata": {
      "needs_background": "light"
     },
     "output_type": "display_data"
    },
    {
     "data": {
      "image/png": "[encoded data removed]",
      "text/plain": [
       "<Figure size 432x288 with 1 Axes>"
      ]
     },
     "metadata": {
      "needs_background": "light"
     },
     "output_type": "display_data"
    },
    {
     "data": {
      "image/png": "[encoded data removed]",
      "text/plain": [
       "<Figure size 432x288 with 1 Axes>"
      ]
     },
     "metadata": {
      "needs_background": "light"
     },
     "output_type": "display_data"
    },
    {
     "data": {
      "image/png": "[encoded data removed]",
      "text/plain": [
       "<Figure size 432x288 with 1 Axes>"
      ]
     },
     "metadata": {
      "needs_background": "light"
     },
     "output_type": "display_data"
    },
    {
     "data": {
      "image/png": "[encoded data removed]",
      "text/plain": [
       "<Figure size 432x288 with 1 Axes>"
      ]
     },
     "metadata": {
      "needs_background": "light"
     },
     "output_type": "display_data"
    },
    {
     "data": {
      "image/png": "[encoded data removed]",
      "text/plain": [
       "<Figure size 432x288 with 1 Axes>"
      ]
     },
     "metadata": {
      "needs_background": "light"
     },
     "output_type": "display_data"
    },
    {
     "data": {
      "image/png": "[encoded data removed]",
      "text/plain": [
       "<Figure size 432x288 with 1 Axes>"
      ]
     },
     "metadata": {
      "needs_background": "light"
     },
     "output_type": "display_data"
    },
    {
     "data": {
      "image/png": "[encoded data removed]",
      "text/plain": [
       "<Figure size 432x288 with 1 Axes>"
      ]
     },
     "metadata": {
      "needs_background": "light"
     },
     "output_type": "display_data"
    },
    {
     "data": {
      "image/png": "[encoded data removed]",
      "text/plain": [
       "<Figure size 432x288 with 1 Axes>"
      ]
     },
     "metadata": {
      "needs_background": "light"
     },
     "output_type": "display_data"
    },
    {
     "data": {
      "image/png": "[encoded data removed]",
      "text/plain": [
       "<Figure size 432x288 with 1 Axes>"
      ]
     },
     "metadata": {
      "needs_background": "light"
     },
     "output_type": "display_data"
    },
    {
     "data": {
      "image/png": "[encoded data removed]",
      "text/plain": [
       "<Figure size 432x288 with 1 Axes>"
      ]
     },
     "metadata": {
      "needs_background": "light"
     },
     "output_type": "display_data"
    },
    {
     "data": {
      "image/png": "[encoded data removed]",
      "text/plain": [
       "<Figure size 432x288 with 1 Axes>"
      ]
     },
     "metadata": {
      "needs_background": "light"
     },
     "output_type": "display_data"
    },
    {
     "data": {
      "image/png": "[encoded data removed]",
      "text/plain": [
       "<Figure size 432x288 with 1 Axes>"
      ]
     },
     "metadata": {
      "needs_background": "light"
     },
     "output_type": "display_data"
    },
    {
     "data": {
      "image/png": "[encoded data removed]",
      "text/plain": [
       "<Figure size 432x288 with 1 Axes>"
      ]
     },
     "metadata": {
      "needs_background": "light"
     },
     "output_type": "display_data"
    }
   ],
   "source": [
    "cols_to_compare = cluster_desc[0].columns[0:20]\n",
    "param_name = 'mean' # std, min, max, 25%\n",
    "\n",
    "# Iterujemy się przez kolumny poddane analizie\n",
    "for col_to_comp in cols_to_compare:\n",
    "    plt.figure()\n",
    "    # Dla określonej kolumny pobieramy średnią i idziemy do dalszych klastrów \n",
    "    param_list = [cluster_description[col_to_comp][param_name] for cluster_description in cluster_desc]\n",
    "    plt.scatter(list(range(len(param_list))), param_list)\n",
    "    plt.xlabel('Cluster')\n",
    "    plt.ylabel('Feature' + param_name)\n",
    "    plt.title(col_to_comp+' '+param_name)"
   ]
  },
  {
   "cell_type": "code",
   "execution_count": 77,
   "id": "1f84af08",
   "metadata": {},
   "outputs": [],
   "source": [
    "# PCA"
   ]
  },
  {
   "cell_type": "code",
   "execution_count": 78,
   "id": "f8a4ae60",
   "metadata": {},
   "outputs": [
    {
     "data": {
      "text/plain": [
       "(6985, 41)"
      ]
     },
     "execution_count": 78,
     "metadata": {},
     "output_type": "execute_result"
    }
   ],
   "source": [
    "x_train_norm.shape"
   ]
  },
  {
   "cell_type": "code",
   "execution_count": 113,
   "id": "8a601afa",
   "metadata": {},
   "outputs": [],
   "source": [
    "# Transformacja do 30 kolumn (>60% kompresja)"
   ]
  },
  {
   "cell_type": "code",
   "execution_count": 79,
   "id": "b6cc8ebe",
   "metadata": {},
   "outputs": [],
   "source": [
    "from sklearn.decomposition import PCA"
   ]
  },
  {
   "cell_type": "code",
   "execution_count": 103,
   "id": "d94af156",
   "metadata": {},
   "outputs": [],
   "source": [
    "pca = PCA(n_components=15)"
   ]
  },
  {
   "cell_type": "code",
   "execution_count": 104,
   "id": "1978363b",
   "metadata": {},
   "outputs": [],
   "source": [
    "# Transformacja\n",
    "x_train_norm_PCA = pca.fit_transform(x_train_norm)"
   ]
  },
  {
   "cell_type": "code",
   "execution_count": 105,
   "id": "32aa6757",
   "metadata": {},
   "outputs": [],
   "source": [
    "x_test_norm_PCA = pca.transform(x_test_norm)"
   ]
  },
  {
   "cell_type": "code",
   "execution_count": 106,
   "id": "5671320c",
   "metadata": {},
   "outputs": [
    {
     "data": {
      "text/plain": [
       "(6985, 15)"
      ]
     },
     "execution_count": 106,
     "metadata": {},
     "output_type": "execute_result"
    }
   ],
   "source": [
    "x_train_norm_PCA.shape"
   ]
  },
  {
   "cell_type": "code",
   "execution_count": 107,
   "id": "f7d2b6b6",
   "metadata": {},
   "outputs": [],
   "source": [
    "# Drzewko\n",
    "from sklearn import tree\n",
    "decision_tree_model = tree.DecisionTreeClassifier()\n",
    "decision_tree_model.fit(x_train_norm_PCA, y_train)\n",
    "y_pred_tree = decision_tree_model.predict(x_test_norm_PCA)"
   ]
  },
  {
   "cell_type": "code",
   "execution_count": 108,
   "id": "0b8882d8",
   "metadata": {},
   "outputs": [
    {
     "data": {
      "text/plain": [
       "array([[170,   1,   4,   1,   8,   7,   4,   6,   1,   4],\n",
       "       [  4,  53,   2,   8,   7,   6,   1,   3,   2,   7],\n",
       "       [  8,   8, 118,  23,   3,   4,   6,   4,   8,  22],\n",
       "       [  8,   6,  18, 114,  15,   8,   9,   1,  15,  20],\n",
       "       [  1,   0,   9,   5, 133,   5,   2,  15,   7,  11],\n",
       "       [  0,   2,   5,   4,   1, 170,   2,   1,   5,   4],\n",
       "       [  1,   2,   3,   3,   3,   2,  39,   2,   0,   4],\n",
       "       [  2,   1,   4,   0,  12,   1,   0, 172,   1,   5],\n",
       "       [  2,   1,   4,   6,   3,   5,   2,   3, 156,   5],\n",
       "       [  3,   7,  23,  13,  13,   6,   8,   9,   6, 116]], dtype=int64)"
      ]
     },
     "execution_count": 108,
     "metadata": {},
     "output_type": "execute_result"
    }
   ],
   "source": [
    "confusion_matrix(y_test, y_pred_tree)"
   ]
  },
  {
   "cell_type": "code",
   "execution_count": 109,
   "id": "e0e70f84",
   "metadata": {},
   "outputs": [
    {
     "name": "stdout",
     "output_type": "stream",
     "text": [
      "              precision    recall  f1-score   support\n",
      "\n",
      "           0       0.85      0.83      0.84       206\n",
      "           1       0.65      0.57      0.61        93\n",
      "           2       0.62      0.58      0.60       204\n",
      "           3       0.64      0.53      0.58       214\n",
      "           4       0.67      0.71      0.69       188\n",
      "           5       0.79      0.88      0.83       194\n",
      "           6       0.53      0.66      0.59        59\n",
      "           7       0.80      0.87      0.83       198\n",
      "           8       0.78      0.83      0.80       187\n",
      "           9       0.59      0.57      0.58       204\n",
      "\n",
      "    accuracy                           0.71      1747\n",
      "   macro avg       0.69      0.70      0.70      1747\n",
      "weighted avg       0.71      0.71      0.71      1747\n",
      "\n"
     ]
    }
   ],
   "source": [
    "print(classification_report(y_test, y_pred_tree))"
   ]
  },
  {
   "cell_type": "code",
   "execution_count": 110,
   "id": "1300bb78",
   "metadata": {},
   "outputs": [
    {
     "name": "stderr",
     "output_type": "stream",
     "text": [
      "C:\\Users\\Marcin\\Anaconda3\\lib\\site-packages\\xgboost\\sklearn.py:892: UserWarning: The use of label encoder in XGBClassifier is deprecated and will be removed in a future release. To remove this warning, do the following: 1) Pass option use_label_encoder=False when constructing XGBClassifier object; and 2) Encode your labels (y) as integers starting with 0, i.e. 0, 1, 2, ..., [num_class - 1].\n",
      "  warnings.warn(label_encoder_deprecation_msg, UserWarning)\n"
     ]
    },
    {
     "name": "stdout",
     "output_type": "stream",
     "text": [
      "[10:35:01] WARNING: C:/Users/Administrator/workspace/xgboost-win64_release_1.3.0/src/learner.cc:1061: Starting in XGBoost 1.3.0, the default evaluation metric used with the objective 'multi:softprob' was changed from 'merror' to 'mlogloss'. Explicitly set eval_metric if you'd like to restore the old behavior.\n"
     ]
    }
   ],
   "source": [
    "#XGBC\n",
    "xgboost_c = xgboost.XGBClassifier()\n",
    "xgboost_c.fit(x_train_norm_PCA, y_train)\n",
    "y_xgb_pred = xgboost_c.predict(x_test_norm_PCA)"
   ]
  },
  {
   "cell_type": "code",
   "execution_count": 111,
   "id": "47f1391c",
   "metadata": {},
   "outputs": [
    {
     "data": {
      "text/plain": [
       "array([[196,   1,   0,   0,   0,   1,   0,   3,   0,   5],\n",
       "       [  2,  70,   0,   4,   4,   1,   0,   5,   0,   7],\n",
       "       [  3,   0, 168,  11,   2,   3,   0,   3,   3,  11],\n",
       "       [  3,   1,  15, 173,   6,   5,   3,   0,   1,   7],\n",
       "       [  1,   0,   7,   1, 162,   1,   2,  11,   2,   1],\n",
       "       [  0,   0,   5,   2,   0, 182,   0,   0,   0,   5],\n",
       "       [  0,   0,   3,   1,   0,   1,  50,   2,   0,   2],\n",
       "       [  0,   0,   0,   0,   5,   1,   0, 188,   0,   4],\n",
       "       [  1,   0,   1,   2,   1,   1,   0,   0, 181,   0],\n",
       "       [  0,   5,   8,   8,   8,   1,   2,   5,   7, 160]], dtype=int64)"
      ]
     },
     "execution_count": 111,
     "metadata": {},
     "output_type": "execute_result"
    }
   ],
   "source": [
    "confusion_matrix(y_test, y_xgb_pred)"
   ]
  },
  {
   "cell_type": "code",
   "execution_count": 112,
   "id": "850f9352",
   "metadata": {},
   "outputs": [
    {
     "name": "stdout",
     "output_type": "stream",
     "text": [
      "              precision    recall  f1-score   support\n",
      "\n",
      "           0       0.95      0.95      0.95       206\n",
      "           1       0.91      0.75      0.82        93\n",
      "           2       0.81      0.82      0.82       204\n",
      "           3       0.86      0.81      0.83       214\n",
      "           4       0.86      0.86      0.86       188\n",
      "           5       0.92      0.94      0.93       194\n",
      "           6       0.88      0.85      0.86        59\n",
      "           7       0.87      0.95      0.91       198\n",
      "           8       0.93      0.97      0.95       187\n",
      "           9       0.79      0.78      0.79       204\n",
      "\n",
      "    accuracy                           0.88      1747\n",
      "   macro avg       0.88      0.87      0.87      1747\n",
      "weighted avg       0.88      0.88      0.88      1747\n",
      "\n"
     ]
    }
   ],
   "source": [
    "print(classification_report(y_test, y_xgb_pred))"
   ]
  }
 ],
 "metadata": {
  "kernelspec": {
   "display_name": "Python 3 (ipykernel)",
   "language": "python",
   "name": "python3"
  },
  "language_info": {
   "codemirror_mode": {
    "name": "ipython",
    "version": 3
   },
   "file_extension": ".py",
   "mimetype": "text/x-python",
   "name": "python",
   "nbconvert_exporter": "python",
   "pygments_lexer": "ipython3",
   "version": "3.10.9"
  }
 },
 "nbformat": 4,
 "nbformat_minor": 5
}
